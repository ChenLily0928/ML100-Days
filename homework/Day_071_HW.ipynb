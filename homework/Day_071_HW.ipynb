{
 "cells": [
  {
   "cell_type": "markdown",
   "metadata": {},
   "source": [
    "# Day_071"
   ]
  },
  {
   "cell_type": "markdown",
   "metadata": {},
   "source": [
    "### 練習時間"
   ]
  },
  {
   "cell_type": "code",
   "execution_count": 1,
   "metadata": {},
   "outputs": [
    {
     "name": "stderr",
     "output_type": "stream",
     "text": [
      "Using TensorFlow backend.\n"
     ]
    }
   ],
   "source": [
    "from keras.datasets import cifar10\n",
    "import numpy as np\n",
    "np.random.seed(10)"
   ]
  },
  {
   "cell_type": "markdown",
   "metadata": {},
   "source": [
    "### 資料準備"
   ]
  },
  {
   "cell_type": "code",
   "execution_count": 2,
   "metadata": {
    "collapsed": true
   },
   "outputs": [],
   "source": [
    "# 取得Keras Dataset\n",
    "(x_img_train, y_label_train), (x_img_test, y_label_test)= cifar10.load_data()"
   ]
  },
  {
   "cell_type": "code",
   "execution_count": 3,
   "metadata": {},
   "outputs": [
    {
     "name": "stdout",
     "output_type": "stream",
     "text": [
      "train data: images:  (50000, 32, 32, 3) labels: (50000, 1)\n",
      "test  data: images:  (10000, 32, 32, 3) labels: (10000, 1)\n"
     ]
    }
   ],
   "source": [
    "# 確認 CIFAR10 Dataset 資料維度\n",
    "print(\"train data:\",'images: ',x_img_train.shape, \"labels:\",y_label_train.shape) \n",
    "print(\"test  data:\",'images: ',x_img_test.shape , \"labels:\",y_label_test.shape) "
   ]
  },
  {
   "cell_type": "code",
   "execution_count": 4,
   "metadata": {
    "collapsed": true
   },
   "outputs": [],
   "source": [
    "# 資料正規化\n",
    "x_img_train_normalize = x_img_train.astype('float32') / 255.0\n",
    "x_img_test_normalize = x_img_test.astype('float32') / 255.0"
   ]
  },
  {
   "cell_type": "code",
   "execution_count": 5,
   "metadata": {},
   "outputs": [
    {
     "data": {
      "text/plain": [
       "(10000, 10)"
      ]
     },
     "execution_count": 5,
     "metadata": {},
     "output_type": "execute_result"
    }
   ],
   "source": [
    "# 針對Label 做 ONE HOT ENCODE\n",
    "from keras.utils import np_utils\n",
    "y_label_train_OneHot = np_utils.to_categorical(y_label_train)\n",
    "y_label_test_OneHot = np_utils.to_categorical(y_label_test)\n",
    "y_label_test_OneHot.shape"
   ]
  },
  {
   "cell_type": "markdown",
   "metadata": {},
   "source": [
    "### 建立模型"
   ]
  },
  {
   "cell_type": "code",
   "execution_count": 6,
   "metadata": {
    "collapsed": true
   },
   "outputs": [],
   "source": [
    "from keras.models import Sequential\n",
    "from keras.layers import Dense, Dropout, Activation, Flatten\n",
    "from keras.layers import Conv2D, MaxPooling2D, ZeroPadding2D"
   ]
  },
  {
   "cell_type": "code",
   "execution_count": 7,
   "metadata": {
    "collapsed": true
   },
   "outputs": [],
   "source": [
    "model = Sequential()"
   ]
  },
  {
   "cell_type": "code",
   "execution_count": 8,
   "metadata": {
    "collapsed": true
   },
   "outputs": [],
   "source": [
    "# 卷積層 1 與池化層 1\n",
    "model.add(Conv2D(filters = 32, \n",
    "                 kernel_size = (3, 3),\n",
    "                 input_shape = (32, 32, 3), \n",
    "                 activation = 'relu', \n",
    "                 padding = 'same'))"
   ]
  },
  {
   "cell_type": "code",
   "execution_count": 9,
   "metadata": {
    "collapsed": true
   },
   "outputs": [],
   "source": [
    "model.add(Dropout(rate = 0.25))"
   ]
  },
  {
   "cell_type": "code",
   "execution_count": 10,
   "metadata": {
    "collapsed": true
   },
   "outputs": [],
   "source": [
    "model.add(MaxPooling2D(pool_size = (2, 2)))"
   ]
  },
  {
   "cell_type": "code",
   "execution_count": 11,
   "metadata": {
    "collapsed": true
   },
   "outputs": [],
   "source": [
    "#卷積層 2 與池化層 2\n",
    "model.add(Conv2D(filters = 64, \n",
    "                 kernel_size = (3, 3), \n",
    "                 activation = 'relu',\n",
    "                 padding = 'same'))"
   ]
  },
  {
   "cell_type": "code",
   "execution_count": 12,
   "metadata": {
    "collapsed": true
   },
   "outputs": [],
   "source": [
    "model.add(Dropout(rate = 0.25))"
   ]
  },
  {
   "cell_type": "code",
   "execution_count": 13,
   "metadata": {
    "collapsed": true
   },
   "outputs": [],
   "source": [
    "model.add(MaxPooling2D(pool_size = (2, 2)))"
   ]
  },
  {
   "cell_type": "code",
   "execution_count": 14,
   "metadata": {
    "collapsed": true
   },
   "outputs": [],
   "source": [
    "# 建立神經網路\n",
    "# 平坦層\n",
    "model.add(Flatten())\n",
    "model.add(Dropout(rate = 0.25))\n",
    "\n",
    "# 隱藏層\n",
    "model.add(Dense(1024, activation = 'relu'))\n",
    "model.add(Dropout(rate = 0.25))\n",
    "\n",
    "# 輸出層\n",
    "model.add(Dense(10, activation = 'softmax'))"
   ]
  },
  {
   "cell_type": "code",
   "execution_count": 15,
   "metadata": {},
   "outputs": [
    {
     "name": "stdout",
     "output_type": "stream",
     "text": [
      "_________________________________________________________________\n",
      "Layer (type)                 Output Shape              Param #   \n",
      "=================================================================\n",
      "conv2d_1 (Conv2D)            (None, 32, 32, 32)        896       \n",
      "_________________________________________________________________\n",
      "dropout_1 (Dropout)          (None, 32, 32, 32)        0         \n",
      "_________________________________________________________________\n",
      "max_pooling2d_1 (MaxPooling2 (None, 16, 16, 32)        0         \n",
      "_________________________________________________________________\n",
      "conv2d_2 (Conv2D)            (None, 16, 16, 64)        18496     \n",
      "_________________________________________________________________\n",
      "dropout_2 (Dropout)          (None, 16, 16, 64)        0         \n",
      "_________________________________________________________________\n",
      "max_pooling2d_2 (MaxPooling2 (None, 8, 8, 64)          0         \n",
      "_________________________________________________________________\n",
      "flatten_1 (Flatten)          (None, 4096)              0         \n",
      "_________________________________________________________________\n",
      "dropout_3 (Dropout)          (None, 4096)              0         \n",
      "_________________________________________________________________\n",
      "dense_1 (Dense)              (None, 1024)              4195328   \n",
      "_________________________________________________________________\n",
      "dropout_4 (Dropout)          (None, 1024)              0         \n",
      "_________________________________________________________________\n",
      "dense_2 (Dense)              (None, 10)                10250     \n",
      "=================================================================\n",
      "Total params: 4,224,970\n",
      "Trainable params: 4,224,970\n",
      "Non-trainable params: 0\n",
      "_________________________________________________________________\n",
      "None\n"
     ]
    }
   ],
   "source": [
    "# 檢查model 的 STACK\n",
    "print(model.summary())"
   ]
  },
  {
   "cell_type": "markdown",
   "metadata": {},
   "source": [
    "# 載入之前訓練的模型"
   ]
  },
  {
   "cell_type": "code",
   "execution_count": 16,
   "metadata": {},
   "outputs": [
    {
     "name": "stdout",
     "output_type": "stream",
     "text": [
      "載入模型失敗!開始訓練一個新模型\n"
     ]
    }
   ],
   "source": [
    "try:\n",
    "    model.load_weights(\"SaveModel/cifarCnnModel.h5\")\n",
    "    print(\"載入模型成功!繼續訓練模型\")\n",
    "except :    \n",
    "    print(\"載入模型失敗!開始訓練一個新模型\")"
   ]
  },
  {
   "cell_type": "markdown",
   "metadata": {},
   "source": [
    "### 訓練模型"
   ]
  },
  {
   "cell_type": "markdown",
   "metadata": {},
   "source": [
    "### 練習時間\n",
    "    請分別選用 \"MSE\", \"binary _crossentropy\"\n",
    "    查看Train/test accurancy and loss rate"
   ]
  },
  {
   "cell_type": "code",
   "execution_count": 17,
   "metadata": {
    "collapsed": true
   },
   "outputs": [],
   "source": [
    "model.compile(loss = 'categorical_crossentropy', optimizer = 'sgd', metrics = ['accuracy'])"
   ]
  },
  {
   "cell_type": "code",
   "execution_count": 19,
   "metadata": {},
   "outputs": [
    {
     "name": "stdout",
     "output_type": "stream",
     "text": [
      "Train on 40000 samples, validate on 10000 samples\n",
      "Epoch 1/10\n",
      "40000/40000 [==============================] - 281s 7ms/step - loss: 1.8123 - acc: 0.3426 - val_loss: 1.6094 - val_acc: 0.4602\n",
      "Epoch 2/10\n",
      "40000/40000 [==============================] - 287s 7ms/step - loss: 1.4472 - acc: 0.4798 - val_loss: 1.3804 - val_acc: 0.5402\n",
      "Epoch 3/10\n",
      "40000/40000 [==============================] - 284s 7ms/step - loss: 1.2960 - acc: 0.5384 - val_loss: 1.3061 - val_acc: 0.5828\n",
      "Epoch 4/10\n",
      "40000/40000 [==============================] - 284s 7ms/step - loss: 1.1888 - acc: 0.5801 - val_loss: 1.2158 - val_acc: 0.6135\n",
      "Epoch 5/10\n",
      "40000/40000 [==============================] - 288s 7ms/step - loss: 1.1040 - acc: 0.6096 - val_loss: 1.1509 - val_acc: 0.6346\n",
      "Epoch 6/10\n",
      "40000/40000 [==============================] - 270s 7ms/step - loss: 1.0341 - acc: 0.6328 - val_loss: 1.1072 - val_acc: 0.6289\n",
      "Epoch 7/10\n",
      "40000/40000 [==============================] - 272s 7ms/step - loss: 0.9713 - acc: 0.6560 - val_loss: 1.0527 - val_acc: 0.6585\n",
      "Epoch 8/10\n",
      "40000/40000 [==============================] - 269s 7ms/step - loss: 0.9187 - acc: 0.6733 - val_loss: 1.0153 - val_acc: 0.6783\n",
      "Epoch 9/10\n",
      "40000/40000 [==============================] - 276s 7ms/step - loss: 0.8702 - acc: 0.6946 - val_loss: 0.9827 - val_acc: 0.6758\n",
      "Epoch 10/10\n",
      "40000/40000 [==============================] - 286s 7ms/step - loss: 0.8188 - acc: 0.7120 - val_loss: 0.9603 - val_acc: 0.6829\n"
     ]
    }
   ],
   "source": [
    "train_history = model.fit(x_img_train_normalize, y_label_train_OneHot,\n",
    "                          validation_split = 0.2,\n",
    "                          epochs = 10, batch_size = 16, verbose = 1)     "
   ]
  },
  {
   "cell_type": "code",
   "execution_count": 20,
   "metadata": {
    "collapsed": true
   },
   "outputs": [],
   "source": [
    "import matplotlib.pyplot as plt\n",
    "def show_train_history(train_acc, test_acc):\n",
    "    plt.plot(train_history.history[train_acc])\n",
    "    plt.plot(train_history.history[test_acc])\n",
    "    plt.title('Train History')\n",
    "    plt.ylabel('Accuracy')\n",
    "    plt.xlabel('Epoch')\n",
    "    plt.legend(['train', 'test'], loc = 'upper left')\n",
    "    plt.show()"
   ]
  },
  {
   "cell_type": "code",
   "execution_count": 21,
   "metadata": {},
   "outputs": [
    {
     "data": {
      "image/png": "[encoded data removed]",
      "text/plain": [
       "<matplotlib.figure.Figure at 0x2b5a57a5e80>"
      ]
     },
     "metadata": {},
     "output_type": "display_data"
    }
   ],
   "source": [
    "show_train_history('acc', 'val_acc')"
   ]
  },
  {
   "cell_type": "code",
   "execution_count": 22,
   "metadata": {},
   "outputs": [
    {
     "data": {
      "image/png": "[encoded data removed]",
      "text/plain": [
       "<matplotlib.figure.Figure at 0x2b5ac0f65f8>"
      ]
     },
     "metadata": {},
     "output_type": "display_data"
    }
   ],
   "source": [
    "show_train_history('loss','val_loss')"
   ]
  },
  {
   "cell_type": "code",
   "execution_count": 23,
   "metadata": {
    "collapsed": true
   },
   "outputs": [],
   "source": [
    "model.compile(loss = 'mean_squared_error', optimizer = 'sgd', metrics = ['accuracy'])"
   ]
  },
  {
   "cell_type": "code",
   "execution_count": 24,
   "metadata": {},
   "outputs": [
    {
     "name": "stdout",
     "output_type": "stream",
     "text": [
      "Train on 40000 samples, validate on 10000 samples\n",
      "Epoch 1/10\n",
      "40000/40000 [==============================] - 287s 7ms/step - loss: 0.0352 - acc: 0.7471 - val_loss: 0.0421 - val_acc: 0.7067\n",
      "Epoch 2/10\n",
      "40000/40000 [==============================] - 290s 7ms/step - loss: 0.0344 - acc: 0.7545 - val_loss: 0.0418 - val_acc: 0.7088\n",
      "Epoch 3/10\n",
      "40000/40000 [==============================] - 272s 7ms/step - loss: 0.0341 - acc: 0.7572 - val_loss: 0.0414 - val_acc: 0.7107\n",
      "Epoch 4/10\n",
      "40000/40000 [==============================] - 268s 7ms/step - loss: 0.0335 - acc: 0.7614 - val_loss: 0.0412 - val_acc: 0.7130\n",
      "Epoch 5/10\n",
      "40000/40000 [==============================] - 263s 7ms/step - loss: 0.0332 - acc: 0.7641 - val_loss: 0.0408 - val_acc: 0.7163\n",
      "Epoch 6/10\n",
      "40000/40000 [==============================] - 275s 7ms/step - loss: 0.0329 - acc: 0.7660 - val_loss: 0.0409 - val_acc: 0.7133\n",
      "Epoch 7/10\n",
      "40000/40000 [==============================] - 281s 7ms/step - loss: 0.0326 - acc: 0.7672 - val_loss: 0.0407 - val_acc: 0.7164\n",
      "Epoch 8/10\n",
      "40000/40000 [==============================] - 274s 7ms/step - loss: 0.0326 - acc: 0.7679 - val_loss: 0.0407 - val_acc: 0.7152\n",
      "Epoch 9/10\n",
      "40000/40000 [==============================] - 280s 7ms/step - loss: 0.0324 - acc: 0.7708 - val_loss: 0.0406 - val_acc: 0.7154\n",
      "Epoch 10/10\n",
      "40000/40000 [==============================] - 302s 8ms/step - loss: 0.0323 - acc: 0.7688 - val_loss: 0.0408 - val_acc: 0.7125\n"
     ]
    }
   ],
   "source": [
    "train_history = model.fit(x_img_train_normalize, y_label_train_OneHot,\n",
    "                          validation_split = 0.2,\n",
    "                          epochs = 10, batch_size = 16, verbose = 1)     "
   ]
  },
  {
   "cell_type": "code",
   "execution_count": 25,
   "metadata": {},
   "outputs": [
    {
     "data": {
      "image/png": "[encoded data removed]",
      "text/plain": [
       "<matplotlib.figure.Figure at 0x2b5a57a5eb8>"
      ]
     },
     "metadata": {},
     "output_type": "display_data"
    }
   ],
   "source": [
    "show_train_history('acc', 'val_acc')"
   ]
  },
  {
   "cell_type": "code",
   "execution_count": 26,
   "metadata": {},
   "outputs": [
    {
     "data": {
      "image/png": "[encoded data removed]",
      "text/plain": [
       "<matplotlib.figure.Figure at 0x2b5ac92cfd0>"
      ]
     },
     "metadata": {},
     "output_type": "display_data"
    }
   ],
   "source": [
    "show_train_history('loss', 'val_loss')"
   ]
  },
  {
   "cell_type": "code",
   "execution_count": 27,
   "metadata": {
    "collapsed": true
   },
   "outputs": [],
   "source": [
    "model.compile(loss = 'binary_crossentropy', optimizer = 'sgd', metrics = ['accuracy'])"
   ]
  },
  {
   "cell_type": "code",
   "execution_count": 28,
   "metadata": {},
   "outputs": [
    {
     "name": "stdout",
     "output_type": "stream",
     "text": [
      "Train on 40000 samples, validate on 10000 samples\n",
      "Epoch 1/10\n",
      "40000/40000 [==============================] - 290s 7ms/step - loss: 0.1112 - acc: 0.9565 - val_loss: 0.1389 - val_acc: 0.9466\n",
      "Epoch 2/10\n",
      "40000/40000 [==============================] - 303s 8ms/step - loss: 0.1104 - acc: 0.9567 - val_loss: 0.1381 - val_acc: 0.9471\n",
      "Epoch 3/10\n",
      "40000/40000 [==============================] - 313s 8ms/step - loss: 0.1087 - acc: 0.9576 - val_loss: 0.1392 - val_acc: 0.9465\n",
      "Epoch 4/10\n",
      "40000/40000 [==============================] - 293s 7ms/step - loss: 0.1073 - acc: 0.9580 - val_loss: 0.1367 - val_acc: 0.9476\n",
      "Epoch 5/10\n",
      "40000/40000 [==============================] - 279s 7ms/step - loss: 0.1059 - acc: 0.9584 - val_loss: 0.1361 - val_acc: 0.9480\n",
      "Epoch 6/10\n",
      "40000/40000 [==============================] - 292s 7ms/step - loss: 0.1041 - acc: 0.9596 - val_loss: 0.1358 - val_acc: 0.9478\n",
      "Epoch 7/10\n",
      "40000/40000 [==============================] - 297s 7ms/step - loss: 0.1030 - acc: 0.9601 - val_loss: 0.1346 - val_acc: 0.9486\n",
      "Epoch 8/10\n",
      "40000/40000 [==============================] - 301s 8ms/step - loss: 0.1015 - acc: 0.9607 - val_loss: 0.1346 - val_acc: 0.9482\n",
      "Epoch 9/10\n",
      "40000/40000 [==============================] - 287s 7ms/step - loss: 0.1010 - acc: 0.9606 - val_loss: 0.1340 - val_acc: 0.9487\n",
      "Epoch 10/10\n",
      "40000/40000 [==============================] - 281s 7ms/step - loss: 0.0992 - acc: 0.9617 - val_loss: 0.1327 - val_acc: 0.9493\n"
     ]
    }
   ],
   "source": [
    "train_history = model.fit(x_img_train_normalize, y_label_train_OneHot,\n",
    "                          validation_split = 0.2,\n",
    "                          epochs = 10, batch_size = 16, verbose = 1)     "
   ]
  },
  {
   "cell_type": "code",
   "execution_count": 29,
   "metadata": {},
   "outputs": [
    {
     "data": {
      "image/png": "[encoded data removed]",
      "text/plain": [
       "<matplotlib.figure.Figure at 0x2b5ac0f0550>"
      ]
     },
     "metadata": {},
     "output_type": "display_data"
    }
   ],
   "source": [
    "show_train_history('acc', 'val_acc')"
   ]
  },
  {
   "cell_type": "code",
   "execution_count": 30,
   "metadata": {},
   "outputs": [
    {
     "data": {
      "image/png": "[encoded data removed]",
      "text/plain": [
       "<matplotlib.figure.Figure at 0x2b5ac91b048>"
      ]
     },
     "metadata": {},
     "output_type": "display_data"
    }
   ],
   "source": [
    "show_train_history('loss', 'val_loss')"
   ]
  },
  {
   "cell_type": "markdown",
   "metadata": {},
   "source": [
    "#### 使用 binary_crossentropy 比使用 categorical_crossentropy 和 MSE 的準確率都來的高"
   ]
  }
 ],
 "metadata": {
  "anaconda-cloud": {},
  "kernelspec": {
   "display_name": "Python 3",
   "language": "python",
   "name": "python3"
  },
  "language_info": {
   "codemirror_mode": {
    "name": "ipython",
    "version": 3
   },
   "file_extension": ".py",
   "mimetype": "text/x-python",
   "name": "python",
   "nbconvert_exporter": "python",
   "pygments_lexer": "ipython3",
   "version": "3.6.3"
  }
 },
 "nbformat": 4,
 "nbformat_minor": 1
}
