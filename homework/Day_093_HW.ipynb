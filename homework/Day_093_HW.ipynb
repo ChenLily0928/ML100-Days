{
 "cells": [
  {
   "cell_type": "markdown",
   "metadata": {},
   "source": [
    "# Day_093"
   ]
  },
  {
   "cell_type": "markdown",
   "metadata": {},
   "source": [
    "### 目標：\n",
    "運用 Keras 模組建構CNN, 了解 CNN 的架構    \n",
    "### 範例重點：\n",
    "CNN 模型必要的: Convolution, Pooling, Flatten, Fully connection, Output, "
   ]
  },
  {
   "cell_type": "markdown",
   "metadata": {},
   "source": [
    "### 練習時間\n",
    "(1) 嘗試比對 Dense 與 layers.Conv2D 架構NN 的差異\n",
    "\n",
    "(2) 有沒有Pooling layer, 對於參數量的差異\n",
    "\n",
    "注意: input_shape 請勿修改"
   ]
  },
  {
   "cell_type": "code",
   "execution_count": 1,
   "metadata": {},
   "outputs": [
    {
     "name": "stderr",
     "output_type": "stream",
     "text": [
      "Using TensorFlow backend.\n"
     ]
    },
    {
     "name": "stdout",
     "output_type": "stream",
     "text": [
      "2.2.4\n"
     ]
    }
   ],
   "source": [
    "#導入相關模組\n",
    "import keras\n",
    "from keras import layers\n",
    "from keras import models\n",
    "from keras.models import Sequential\n",
    "from keras.layers import Conv2D, Activation, MaxPooling2D, Flatten, Dense\n",
    "\n",
    "#確認 keras 版本\n",
    "print(keras.__version__)"
   ]
  },
  {
   "cell_type": "code",
   "execution_count": null,
   "metadata": {
    "collapsed": true
   },
   "outputs": [],
   "source": [
    "'''\n",
    "注意: input_shape 請勿修改\n",
    "model = Sequential([\n",
    "    Dense(32, input_shape=(784,)),\n",
    "    Dense(32),\n",
    "    Activation('relu'),\n",
    "    Dense(10),\n",
    "    Activation('softmax'),\n",
    "])\n",
    "'''"
   ]
  },
  {
   "cell_type": "code",
   "execution_count": 2,
   "metadata": {
    "collapsed": true
   },
   "outputs": [],
   "source": [
    "# 建立一個序列模型\n",
    "model = models.Sequential()\n",
    "\n",
    "# 建立兩個卷積層，32 個內核，內核大小 3 x 3，輸入影像大小 28 x 28 x 1\n",
    "model.add(Dense(32, input_shape = (784, )))\n",
    "model.add(Activation('relu'))\n",
    "\n",
    "model.add(Dense(32, input_shape = (784, )))\n",
    "model.add(Activation('relu'))\n",
    "\n",
    "# 建立一個輸出層, 並採用 softmax\n",
    "model.add(Dense(units = 10))\n",
    "model.add(Activation('softmax'))"
   ]
  },
  {
   "cell_type": "code",
   "execution_count": 3,
   "metadata": {},
   "outputs": [
    {
     "name": "stdout",
     "output_type": "stream",
     "text": [
      "_________________________________________________________________\n",
      "Layer (type)                 Output Shape              Param #   \n",
      "=================================================================\n",
      "dense_1 (Dense)              (None, 32)                25120     \n",
      "_________________________________________________________________\n",
      "activation_1 (Activation)    (None, 32)                0         \n",
      "_________________________________________________________________\n",
      "dense_2 (Dense)              (None, 32)                1056      \n",
      "_________________________________________________________________\n",
      "activation_2 (Activation)    (None, 32)                0         \n",
      "_________________________________________________________________\n",
      "dense_3 (Dense)              (None, 10)                330       \n",
      "_________________________________________________________________\n",
      "activation_3 (Activation)    (None, 10)                0         \n",
      "=================================================================\n",
      "Total params: 26,506\n",
      "Trainable params: 26,506\n",
      "Non-trainable params: 0\n",
      "_________________________________________________________________\n"
     ]
    }
   ],
   "source": [
    "model.summary()"
   ]
  },
  {
   "cell_type": "code",
   "execution_count": 4,
   "metadata": {
    "collapsed": true
   },
   "outputs": [],
   "source": [
    "# 建立一個序列模型\n",
    "model = models.Sequential()\n",
    "\n",
    "# 建立第一個卷積層，32 個內核，內核大小 3 x 3，輸入影像大小 28 x 28 x 1\n",
    "model.add(layers.Conv2D(32, (3, 3), input_shape = (28, 28, 1)))\n",
    "\n",
    "# 建立第二個卷積層，不需要再輸入 input_shape\n",
    "model.add(layers.Conv2D(25, (3, 3)))\n",
    "\n",
    "# 新增平坦層\n",
    "model.add(Flatten())\n",
    "\n",
    "# 建立一個全連接層\n",
    "model.add(Dense(units = 100))\n",
    "model.add(Activation('relu'))\n",
    "\n",
    "#建立一個輸出層, 並採用softmax\n",
    "model.add(Dense(units = 10))\n",
    "model.add(Activation('softmax'))"
   ]
  },
  {
   "cell_type": "code",
   "execution_count": 5,
   "metadata": {},
   "outputs": [
    {
     "name": "stdout",
     "output_type": "stream",
     "text": [
      "_________________________________________________________________\n",
      "Layer (type)                 Output Shape              Param #   \n",
      "=================================================================\n",
      "conv2d_1 (Conv2D)            (None, 26, 26, 32)        320       \n",
      "_________________________________________________________________\n",
      "conv2d_2 (Conv2D)            (None, 24, 24, 25)        7225      \n",
      "_________________________________________________________________\n",
      "flatten_1 (Flatten)          (None, 14400)             0         \n",
      "_________________________________________________________________\n",
      "dense_4 (Dense)              (None, 100)               1440100   \n",
      "_________________________________________________________________\n",
      "activation_4 (Activation)    (None, 100)               0         \n",
      "_________________________________________________________________\n",
      "dense_5 (Dense)              (None, 10)                1010      \n",
      "_________________________________________________________________\n",
      "activation_5 (Activation)    (None, 10)                0         \n",
      "=================================================================\n",
      "Total params: 1,448,655\n",
      "Trainable params: 1,448,655\n",
      "Non-trainable params: 0\n",
      "_________________________________________________________________\n"
     ]
    }
   ],
   "source": [
    "model.summary()"
   ]
  },
  {
   "cell_type": "markdown",
   "metadata": {},
   "source": [
    "### 加入池化層，layers.Conv2D 模型, 用作比對"
   ]
  },
  {
   "cell_type": "code",
   "execution_count": 4,
   "metadata": {
    "collapsed": true
   },
   "outputs": [],
   "source": [
    "# 建立一個序列模型\n",
    "model = models.Sequential()\n",
    "\n",
    "# 建立第一個卷積層，32 個內核，內核大小 3 x 3，輸入影像大小 28 x 28 x 1\n",
    "model.add(layers.Conv2D(32, (3, 3), input_shape = (28, 28, 1)))\n",
    "\n",
    "# 新增一池化層，採用 maxpooling\n",
    "model.add(MaxPooling2D(2, 2))\n",
    "\n",
    "# 建立第二個卷積層，不需要再輸入 input_shape\n",
    "model.add(layers.Conv2D(25, (3, 3)))\n",
    "\n",
    "# 新增一池化層，採用 maxpooling\n",
    "model.add(MaxPooling2D(2, 2))\n",
    "\n",
    "# 新增平坦層\n",
    "model.add(Flatten())\n",
    "\n",
    "# 建立一個全連接層\n",
    "model.add(Dense(units = 100))\n",
    "model.add(Activation('relu'))\n",
    "\n",
    "#建立一個輸出層, 並採用softmax\n",
    "model.add(Dense(units = 10))\n",
    "model.add(Activation('softmax'))"
   ]
  },
  {
   "cell_type": "code",
   "execution_count": 5,
   "metadata": {},
   "outputs": [
    {
     "name": "stdout",
     "output_type": "stream",
     "text": [
      "_________________________________________________________________\n",
      "Layer (type)                 Output Shape              Param #   \n",
      "=================================================================\n",
      "conv2d_1 (Conv2D)            (None, 26, 26, 32)        320       \n",
      "_________________________________________________________________\n",
      "max_pooling2d_1 (MaxPooling2 (None, 13, 13, 32)        0         \n",
      "_________________________________________________________________\n",
      "conv2d_2 (Conv2D)            (None, 11, 11, 25)        7225      \n",
      "_________________________________________________________________\n",
      "max_pooling2d_2 (MaxPooling2 (None, 5, 5, 25)          0         \n",
      "_________________________________________________________________\n",
      "flatten_1 (Flatten)          (None, 625)               0         \n",
      "_________________________________________________________________\n",
      "dense_4 (Dense)              (None, 100)               62600     \n",
      "_________________________________________________________________\n",
      "activation_4 (Activation)    (None, 100)               0         \n",
      "_________________________________________________________________\n",
      "dense_5 (Dense)              (None, 10)                1010      \n",
      "_________________________________________________________________\n",
      "activation_5 (Activation)    (None, 10)                0         \n",
      "=================================================================\n",
      "Total params: 71,155\n",
      "Trainable params: 71,155\n",
      "Non-trainable params: 0\n",
      "_________________________________________________________________\n"
     ]
    }
   ],
   "source": [
    "model.summary()"
   ]
  }
 ],
 "metadata": {
  "kernelspec": {
   "display_name": "Python 3",
   "language": "python",
   "name": "python3"
  },
  "language_info": {
   "codemirror_mode": {
    "name": "ipython",
    "version": 3
   },
   "file_extension": ".py",
   "mimetype": "text/x-python",
   "name": "python",
   "nbconvert_exporter": "python",
   "pygments_lexer": "ipython3",
   "version": "3.6.3"
  }
 },
 "nbformat": 4,
 "nbformat_minor": 2
}
