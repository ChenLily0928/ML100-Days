{
 "cells": [
  {
   "cell_type": "markdown",
   "metadata": {},
   "source": [
    "# Day_039"
   ]
  },
  {
   "cell_type": "markdown",
   "metadata": {},
   "source": [
    "### 練習時間\n",
    "請閱讀相關文獻，並回答下列問題\n",
    "\n",
    "[脊回歸 (Ridge Regression)](https://blog.csdn.net/daunxx/article/details/51578787)\n",
    "[Linear, Ridge, Lasso Regression 本質區別](https://www.zhihu.com/question/38121173)"
   ]
  },
  {
   "cell_type": "markdown",
   "metadata": {},
   "source": [
    "#### 1.LASSO 回歸可以被用來作為 Feature selection 的工具，請了解 LASSO 模型為什麼可用來作 Feature selection\n",
    "\n",
    "Ans：\n",
    "\n",
    "Lasso Regression 是利用 L1 panalty，將 Linear Regression 的係數逼近為 0，(如下圖)\n",
    "<img src=\"http://freemind.pluskid.org/att/2012/05/l1-ball.svg\", width=\"300\", height=\"60\">\n",
    "\n",
    "Ridge Regression 則是利用 L2 panalty，將 Linear Regression 的係數變得小一點，(如下圖)\n",
    "<img src=\"http://freemind.pluskid.org/att/2012/05/l2-ball.svg\", width=\"300\", height=\"60\">\n",
    "\n",
    "有圖可知 L1 panalty 會將係數值限縮在有稜有角的範圍，因此最優解的情況會剛好被縮放為 0，因此便能夠被拿來做 Feature selection"
   ]
  },
  {
   "cell_type": "markdown",
   "metadata": {},
   "source": [
    "#### 2.當自變數 (X) 存在高度共線性時，Ridge Regression 可以處理這樣的問題嗎?\n",
    "\n",
    "Ans：\n",
    "\n",
    "若資料存在高度共線性關係，均方誤差的結果就會對 outlier 非常敏感，所以當 w 係數相當大時，只要 X 一有一點點的小變動，其結果差異就大，造成模型不穩定的情況，因此 Ridge Regression 透過修改最小平方法 Jw = minw{||Xw−y||2+α||w||2}，利用 L2 panalty，當 w 係數大的時候，做適當的修正，進而改善共線性問題。\n",
    "另外，可以使用變異膨脹因子(VIF)來檢測結果，VIF是用來看自變數是否有共線性，VIF的結果越小越好，如果偏大可能就代表自變數有共線性，代表自變數之間不為互相獨立"
   ]
  }
 ],
 "metadata": {
  "kernelspec": {
   "display_name": "Python 3",
   "language": "python",
   "name": "python3"
  },
  "language_info": {
   "codemirror_mode": {
    "name": "ipython",
    "version": 3
   },
   "file_extension": ".py",
   "mimetype": "text/x-python",
   "name": "python",
   "nbconvert_exporter": "python",
   "pygments_lexer": "ipython3",
   "version": "3.6.3"
  }
 },
 "nbformat": 4,
 "nbformat_minor": 2
}
