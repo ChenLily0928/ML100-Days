{
 "cells": [
  {
   "cell_type": "markdown",
   "metadata": {},
   "source": [
    "# Day_001"
   ]
  },
  {
   "cell_type": "markdown",
   "metadata": {},
   "source": [
    "## HW1"
   ]
  },
  {
   "cell_type": "markdown",
   "metadata": {
    "collapsed": true
   },
   "source": [
    "####請上 Kaggle, 在 Competitions 或 Dataset 中找一組競賽或資料並寫下：\n",
    "\n",
    "選擇的題目是：Google Analytics Customer Revenue Prediction - Predict how much GStore customers will spend\n",
    "\n",
    "https://www.kaggle.com/c/ga-customer-revenue-prediction"
   ]
  },
  {
   "cell_type": "markdown",
   "metadata": {
    "collapsed": true
   },
   "source": [
    "#### 1. 你選的這組資料為何重要\n",
    "\n",
    "根據80/20法則，企業的大部分商業利益往往來自一小部分客戶，而營銷團隊要如何制定出適合的促銷策略來進行適當投資進而提高企業收入，具探討意義。\n",
    "\n",
    "####2. 資料從何而來 (tips: 譬如提供者是誰、以什麼方式蒐集)\n",
    "\n",
    "提供者：Google\n",
    "資料集來源：Google Merchandise Store (also known as GStore, where Google swag is sold) customer dataset\n",
    "\n",
    "####3. 蒐集而來的資料型態為何\n",
    "\n",
    "為結構化型資料，以表格、數值等內容為主，資料型態包含整數、日期、字元以及浮點數等幾種類型\n",
    "\n",
    "####4. 這組資料想解決的問題如何評估\n",
    "\n",
    "預測銷售總收入：Root Mean Squared Error (RMSE)"
   ]
  },
  {
   "cell_type": "markdown",
   "metadata": {},
   "source": [
    "##  HW2"
   ]
  },
  {
   "cell_type": "markdown",
   "metadata": {
    "collapsed": true
   },
   "source": [
    "####想像你經營一個自由載客車隊，你希望能透過數據分析以提升業績，請你思考並描述你如何規劃整體的分析/解決方案："
   ]
  },
  {
   "cell_type": "markdown",
   "metadata": {
    "collapsed": true
   },
   "source": [
    "####1. 核心問題為何 (tips：如何定義 「提升業績 & 你的假設」)\n",
    "\n",
    "在經營過程中首先需要先考量幾個問題：\n",
    "─ 顧客族群 \n",
    "─ 營業時間 \n",
    "─ 鎖定地區 \n",
    "─ 如何載客\n",
    "考量以上的問題後，若要提升業績可以有幾種方向，包含降低營運成本、鎖定特定顧客、提升載客率、妥善時間分配等等\n",
    "綜上所述，為了解何種類型的客戶族群為主要服務對象，我們可以透過分析銷售收入的變化來找出目標客戶\n",
    "\n",
    "####2. 資料從何而來 (tips：哪些資料可能會對你想問的問題產生影響 & 資料如何蒐集)\n",
    "\n",
    "資料蒐集可以來自司機所提供之歷史載客數據，其中資料可以包含：\n",
    "─ 開車產生的油耗、里程數、油錢消耗等\n",
    "─ 搭乘的顧客屬性資料\n",
    "─ 載客區域以及平均時間等\n",
    "\n",
    "####3. 蒐集而來的資料型態為何\n",
    "\n",
    "以結構化型資料為主，包含表格、數值等\n",
    "\n",
    "####4. 你要回答的問題，其如何評估 (tips：你的假設如何驗證)\n",
    "\n",
    "預測哪些類型的客戶會搭乘我們經營的車隊：Accuracy / Receiver Operating Curve,ROC"
   ]
  },
  {
   "cell_type": "markdown",
   "metadata": {},
   "source": [
    "## HW3"
   ]
  },
  {
   "cell_type": "markdown",
   "metadata": {},
   "source": [
    "###練習時間\n",
    "\n",
    "請寫一個函式用來計算 Mean Square Error\n",
    "\n",
    "MSE=1n∑ni=1(Yi−Ŷ i)2MSE=1n∑i=1n(Yi−Y^i)2 \n",
    "\n",
    "Hint: 如何取平方"
   ]
  },
  {
   "cell_type": "markdown",
   "metadata": {},
   "source": [
    "常見於迴歸問題的評估指標\n",
    "\n",
    "．Mean Absolute Error (MAE)\n",
    "\n",
    "．Mean Squared Error (MSE)\n",
    "\n",
    "常見於分類問題的指標\n",
    "\n",
    "．Binary Cross Entropy (CE)"
   ]
  },
  {
   "cell_type": "code",
   "execution_count": 1,
   "metadata": {
    "collapsed": true
   },
   "outputs": [],
   "source": [
    "import numpy as np\n",
    "import matplotlib.pyplot as plt"
   ]
  },
  {
   "cell_type": "code",
   "execution_count": 2,
   "metadata": {},
   "outputs": [
    {
     "data": {
      "image/png": "[encoded data removed]",
      "text/plain": [
       "<matplotlib.figure.Figure at 0x260c9bd4240>"
      ]
     },
     "metadata": {},
     "output_type": "display_data"
    }
   ],
   "source": [
    "w = 3\n",
    "b = 0.5\n",
    "\n",
    "x_lin = np.linspace(0, 100, 101)\n",
    "\n",
    "y = (x_lin + np.random.randn(101) * 5) * w + b\n",
    "\n",
    "plt.plot(x_lin, y, 'b.', label = 'data points')\n",
    "plt.title(\"Assume we have data points\")\n",
    "plt.legend(loc = 2)\n",
    "plt.show()"
   ]
  },
  {
   "cell_type": "code",
   "execution_count": 3,
   "metadata": {},
   "outputs": [
    {
     "data": {
      "image/png": "[encoded data removed]",
      "text/plain": [
       "<matplotlib.figure.Figure at 0x260c9f71780>"
      ]
     },
     "metadata": {},
     "output_type": "display_data"
    }
   ],
   "source": [
    "y_hat = x_lin * w + b\n",
    "plt.plot(x_lin, y, 'b.', label = 'data')\n",
    "plt.plot(x_lin, y_hat, 'r-', label = 'prediction')\n",
    "plt.title(\"Assume we have data points (And the prediction)\")\n",
    "plt.legend(loc = 2)\n",
    "plt.show()"
   ]
  },
  {
   "cell_type": "code",
   "execution_count": 4,
   "metadata": {},
   "outputs": [
    {
     "name": "stdout",
     "output_type": "stream",
     "text": [
      "The Mean squared error is 213.571\n"
     ]
    }
   ],
   "source": [
    "def mean_squared_error(y, yp):\n",
    "    \"\"\"\n",
    "    計算 MSE\n",
    "    Args:\n",
    "        - y: 實際值\n",
    "        - yp: 預測值\n",
    "    Return:\n",
    "        - mse: MSE\n",
    "    \"\"\"\n",
    "    mse = MSE = sum(abs(y-yp)**2) / len(y)\n",
    "    return mse\n",
    "MSE = mean_squared_error(y, y_hat)\n",
    "print(\"The Mean squared error is %.3f\" % (MSE))"
   ]
  },
  {
   "cell_type": "code",
   "execution_count": 5,
   "metadata": {},
   "outputs": [
    {
     "name": "stdout",
     "output_type": "stream",
     "text": [
      "The Mean absolute error is 11.883\n"
     ]
    }
   ],
   "source": [
    "def mean_absolute_error(y, yp):\n",
    "    \"\"\"\n",
    "    計算 MAE\n",
    "    Args:\n",
    "        - y: 實際值\n",
    "        - yp: 預測值\n",
    "    Return:\n",
    "        - mae: MAE\n",
    "    \"\"\"\n",
    "    mae = MAE = sum(abs(y - yp)) / len(y)\n",
    "    return mae\n",
    "\n",
    "MAE = mean_absolute_error(y, y_hat)\n",
    "print(\"The Mean absolute error is %.3f\" % (MAE))"
   ]
  },
  {
   "cell_type": "code",
   "execution_count": 6,
   "metadata": {},
   "outputs": [
    {
     "name": "stdout",
     "output_type": "stream",
     "text": [
      "The Mean squared error is 213.571\n",
      "The Mean absolute error is 11.883\n"
     ]
    }
   ],
   "source": [
    "# 執行 Function, 確認有沒有正常執行\n",
    "MSE = mean_squared_error(y, y_hat)\n",
    "MAE = mean_absolute_error(y, y_hat)\n",
    "print(\"The Mean squared error is %.3f\" % (MSE))\n",
    "print(\"The Mean absolute error is %.3f\" % (MAE))"
   ]
  }
 ],
 "metadata": {
  "kernelspec": {
   "display_name": "Python 3",
   "language": "python",
   "name": "python3"
  },
  "language_info": {
   "codemirror_mode": {
    "name": "ipython",
    "version": 3
   },
   "file_extension": ".py",
   "mimetype": "text/x-python",
   "name": "python",
   "nbconvert_exporter": "python",
   "pygments_lexer": "ipython3",
   "version": "3.6.3"
  }
 },
 "nbformat": 4,
 "nbformat_minor": 2
}
