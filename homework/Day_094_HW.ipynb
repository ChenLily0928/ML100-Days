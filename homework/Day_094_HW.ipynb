{
 "cells": [
  {
   "cell_type": "markdown",
   "metadata": {},
   "source": [
    "# Day_094"
   ]
  },
  {
   "cell_type": "markdown",
   "metadata": {},
   "source": [
    "### 目標：了解 Convolution 卷積的組成\n",
    "### 範例重點：\n",
    "    (1) 定義單步的卷積\n",
    "    (2) 輸出卷積的計算值"
   ]
  },
  {
   "cell_type": "code",
   "execution_count": 1,
   "metadata": {
    "collapsed": true
   },
   "outputs": [],
   "source": [
    "import numpy as np"
   ]
  },
  {
   "cell_type": "code",
   "execution_count": 2,
   "metadata": {
    "collapsed": true
   },
   "outputs": [],
   "source": [
    "# GRADED FUNCTION: conv_single_step\n",
    "def conv_single_step(a_slice_prev, W, b):\n",
    "    \"\"\"\n",
    "    定義一層 Kernel (內核), 使用的參數說明如下\n",
    "    Arguments:\n",
    "        a_slice_prev -- 輸入資料的維度\n",
    "        W -- 權重, 被使用在 a_slice_prev\n",
    "        b -- 偏差參數 \n",
    "    Returns:\n",
    "        Z -- 滑動窗口（W，b）卷積在前一個 feature map 上的結果\n",
    "    \"\"\"\n",
    "\n",
    "    # 定義一個元素介於 a_slice and W\n",
    "    s = a_slice_prev * W\n",
    "    # 加總所有的 \"s\" 並指定給Z.\n",
    "    Z = np.sum(s)\n",
    "    # Add bias b to Z. 這是 float() 函數\n",
    "    Z = float(Z + b)\n",
    "\n",
    "    return Z"
   ]
  },
  {
   "cell_type": "code",
   "execution_count": 3,
   "metadata": {},
   "outputs": [
    {
     "name": "stdout",
     "output_type": "stream",
     "text": [
      "Z = -6.999089450680221\n"
     ]
    }
   ],
   "source": [
    "np.random.seed(1)\n",
    "\n",
    "# 定義一個 a x a x d 的 feature map\n",
    "a_slice_prev = np.random.randn(4, 4, 3)\n",
    "W = np.random.randn(4, 4, 3)\n",
    "b = np.random.randn(1, 1, 1)\n",
    "\n",
    "# 取得計算後，卷積矩陣的值\n",
    "Z = conv_single_step(a_slice_prev, W, b)\n",
    "print(\"Z =\", Z)"
   ]
  },
  {
   "cell_type": "markdown",
   "metadata": {},
   "source": [
    "### 練習時間\n",
    "    修改 a_slice_prev，檢查 Z 的輸出"
   ]
  },
  {
   "cell_type": "code",
   "execution_count": 4,
   "metadata": {},
   "outputs": [
    {
     "name": "stdout",
     "output_type": "stream",
     "text": [
      "a_slice_prev = 2 * 2 * 3 , Z = 2.3410402861052764\n",
      "a_slice_prev = 3 * 3 * 3 , Z = -1.5382599001509134\n",
      "a_slice_prev = 4 * 4 * 3 , Z = -1.1137258672391017\n",
      "a_slice_prev = 5 * 5 * 3 , Z = 10.095889545442098\n",
      "a_slice_prev = 6 * 6 * 3 , Z = 2.8600209788983944\n",
      "a_slice_prev = 7 * 7 * 3 , Z = 4.302195795603212\n",
      "a_slice_prev = 8 * 8 * 3 , Z = 8.145736487175956\n",
      "a_slice_prev = 9 * 9 * 3 , Z = -4.187024716077811\n",
      "a_slice_prev = 10 * 10 * 3 , Z = -2.136566404304525\n",
      "a_slice_prev = 11 * 11 * 3 , Z = 7.293676326869102\n",
      "a_slice_prev = 12 * 12 * 3 , Z = -13.971368295598017\n",
      "a_slice_prev = 13 * 13 * 3 , Z = 27.948687581585794\n",
      "a_slice_prev = 14 * 14 * 3 , Z = -51.38370731006269\n",
      "a_slice_prev = 15 * 15 * 3 , Z = 4.453648390742988\n",
      "a_slice_prev = 16 * 16 * 3 , Z = 27.061805292585905\n"
     ]
    }
   ],
   "source": [
    "np.random.seed(1)\n",
    "\n",
    "width = 2\n",
    "height = 2\n",
    "for i in range(15):\n",
    "    # 定義一個 a x a x d 的 feature map\n",
    "    a_slice_prev = np.random.randn(width+i, height+i, 3)\n",
    "    W = np.random.randn(width+i, height+i, 3)\n",
    "    b = np.random.randn(1, 1, 1)\n",
    "    \n",
    "    # 取得計算後，卷積矩陣的值\n",
    "    Z = conv_single_step(a_slice_prev, W, b)\n",
    "    print(f'a_slice_prev = {width+i} * {height+i} * 3 , Z = {Z}')"
   ]
  }
 ],
 "metadata": {
  "kernelspec": {
   "display_name": "Python 3",
   "language": "python",
   "name": "python3"
  },
  "language_info": {
   "codemirror_mode": {
    "name": "ipython",
    "version": 3
   },
   "file_extension": ".py",
   "mimetype": "text/x-python",
   "name": "python",
   "nbconvert_exporter": "python",
   "pygments_lexer": "ipython3",
   "version": "3.6.3"
  }
 },
 "nbformat": 4,
 "nbformat_minor": 2
}
