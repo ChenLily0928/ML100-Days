{
 "cells": [
  {
   "cell_type": "markdown",
   "metadata": {},
   "source": [
    "# Day_078"
   ]
  },
  {
   "cell_type": "markdown",
   "metadata": {},
   "source": [
    "### 練習時間\n",
    "1. 請嘗試將 preproc_x 替換成以每筆資料的 min/max 進行標準化至 -1 ~ 1 間，再進行訓練\n",
    "2. 請嘗試將 mlp 疊更深 (e.g 5~10 層)，進行訓練後觀察 learning curve 的走勢\n",
    "3. (optional) 請改用 GPU 進行訓練 (如果你有 GPU 的話)，比較使用 CPU 與 GPU 的訓練速度"
   ]
  },
  {
   "cell_type": "markdown",
   "metadata": {},
   "source": [
    "確認硬體資源\n",
    "\n",
    "!nvidia-smi"
   ]
  },
  {
   "cell_type": "code",
   "execution_count": 1,
   "metadata": {},
   "outputs": [
    {
     "name": "stderr",
     "output_type": "stream",
     "text": [
      "Using TensorFlow backend.\n"
     ]
    }
   ],
   "source": [
    "import os\n",
    "import keras\n",
    "from keras.layers import Input, Dense, Dropout, Activation, Flatten\n",
    "from keras.models import Model, Sequential"
   ]
  },
  {
   "cell_type": "code",
   "execution_count": 2,
   "metadata": {
    "collapsed": true
   },
   "outputs": [],
   "source": [
    "(x_train, y_train), (x_test, y_test) = keras.datasets.cifar10.load_data()"
   ]
  },
  {
   "cell_type": "code",
   "execution_count": 3,
   "metadata": {},
   "outputs": [
    {
     "data": {
      "text/plain": [
       "(50000, 32, 32, 3)"
      ]
     },
     "execution_count": 3,
     "metadata": {},
     "output_type": "execute_result"
    }
   ],
   "source": [
    "x_train.shape"
   ]
  },
  {
   "cell_type": "code",
   "execution_count": 4,
   "metadata": {
    "collapsed": true
   },
   "outputs": [],
   "source": [
    "# 資料前處理\n",
    "def preproc_x(x, flatten=True):\n",
    "    x = (((x - x.min(axis=0)) / (x.max(axis=0) - x.min(axis=0))) - 1) * 2\n",
    "    if flatten:\n",
    "        x = x.reshape((len(x), -1))\n",
    "    return x\n",
    "\n",
    "def preproc_y(y, num_classes = 10):\n",
    "    if y.shape[-1] == 1:\n",
    "        y = keras.utils.to_categorical(y, num_classes)\n",
    "    return y    "
   ]
  },
  {
   "cell_type": "code",
   "execution_count": 5,
   "metadata": {},
   "outputs": [],
   "source": [
    "# Preproc the inputs\n",
    "x_train = preproc_x(x_train)\n",
    "x_test = preproc_x(x_test)\n",
    "\n",
    "# Preprc the outputs\n",
    "y_train = preproc_y(y_train)\n",
    "y_test = preproc_y(y_test)"
   ]
  },
  {
   "cell_type": "code",
   "execution_count": 6,
   "metadata": {},
   "outputs": [
    {
     "data": {
      "text/plain": [
       "(50000, 3072)"
      ]
     },
     "execution_count": 6,
     "metadata": {},
     "output_type": "execute_result"
    }
   ],
   "source": [
    "x_train.shape"
   ]
  },
  {
   "cell_type": "code",
   "execution_count": 7,
   "metadata": {
    "collapsed": true
   },
   "outputs": [],
   "source": [
    "def build_mlp(input_shape, output_units = 10, num_neurons=[512, 256, 128, 64, 32]):\n",
    "    input_layer = Input(input_shape)\n",
    "    \n",
    "    for i, n_units in enumerate(num_neurons):\n",
    "        if i == 0:\n",
    "            x = Dense(units = n_units, activation = \"relu\", name = \"hidden_layer\" + str(i+1))(input_layer)\n",
    "        else:\n",
    "            x = Dense(units = n_units, activation = \"relu\", name = \"hidden_layer\" + str(i+1))(x)\n",
    "    \n",
    "    out = Dense(units = output_units, activation = \"softmax\", name = \"output\")(x)\n",
    "    \n",
    "    model = Model(inputs=[input_layer], outputs=[out])\n",
    "    return model"
   ]
  },
  {
   "cell_type": "code",
   "execution_count": 8,
   "metadata": {},
   "outputs": [
    {
     "name": "stdout",
     "output_type": "stream",
     "text": [
      "_________________________________________________________________\n",
      "Layer (type)                 Output Shape              Param #   \n",
      "=================================================================\n",
      "input_1 (InputLayer)         (None, 3072)              0         \n",
      "_________________________________________________________________\n",
      "hidden_layer1 (Dense)        (None, 512)               1573376   \n",
      "_________________________________________________________________\n",
      "hidden_layer2 (Dense)        (None, 256)               131328    \n",
      "_________________________________________________________________\n",
      "hidden_layer3 (Dense)        (None, 128)               32896     \n",
      "_________________________________________________________________\n",
      "hidden_layer4 (Dense)        (None, 64)                8256      \n",
      "_________________________________________________________________\n",
      "hidden_layer5 (Dense)        (None, 32)                2080      \n",
      "_________________________________________________________________\n",
      "output (Dense)               (None, 10)                330       \n",
      "=================================================================\n",
      "Total params: 1,748,266\n",
      "Trainable params: 1,748,266\n",
      "Non-trainable params: 0\n",
      "_________________________________________________________________\n"
     ]
    }
   ],
   "source": [
    "model = build_mlp(input_shape = x_train.shape[1:])\n",
    "model.summary()"
   ]
  },
  {
   "cell_type": "code",
   "execution_count": 9,
   "metadata": {
    "collapsed": true
   },
   "outputs": [],
   "source": [
    "# 超參數設定\n",
    "LEARNING_RATE = 0.001\n",
    "EPOCHS = 100\n",
    "BATCH_SIZE = 256"
   ]
  },
  {
   "cell_type": "code",
   "execution_count": 10,
   "metadata": {
    "collapsed": true
   },
   "outputs": [],
   "source": [
    "optimizer = keras.optimizers.Adam(lr=LEARNING_RATE)\n",
    "model.compile(loss=\"categorical_crossentropy\", metrics=[\"accuracy\"], optimizer = optimizer)"
   ]
  },
  {
   "cell_type": "code",
   "execution_count": 11,
   "metadata": {},
   "outputs": [
    {
     "name": "stdout",
     "output_type": "stream",
     "text": [
      "Train on 50000 samples, validate on 10000 samples\n",
      "Epoch 1/100\n",
      "50000/50000 [==============================] - 36s 725us/step - loss: 2.0741 - acc: 0.2347 - val_loss: 1.9158 - val_acc: 0.2889\n",
      "Epoch 2/100\n",
      "50000/50000 [==============================] - 35s 695us/step - loss: 1.8195 - acc: 0.3416 - val_loss: 1.7399 - val_acc: 0.3769\n",
      "Epoch 3/100\n",
      "50000/50000 [==============================] - 35s 699us/step - loss: 1.7105 - acc: 0.3855 - val_loss: 1.6635 - val_acc: 0.4007\n",
      "Epoch 4/100\n",
      "50000/50000 [==============================] - 35s 697us/step - loss: 1.6695 - acc: 0.4034 - val_loss: 1.6161 - val_acc: 0.4158\n",
      "Epoch 5/100\n",
      "50000/50000 [==============================] - 34s 687us/step - loss: 1.6033 - acc: 0.4279 - val_loss: 1.5935 - val_acc: 0.4251\n",
      "Epoch 6/100\n",
      "50000/50000 [==============================] - 33s 655us/step - loss: 1.5674 - acc: 0.4396 - val_loss: 1.5792 - val_acc: 0.4340\n",
      "Epoch 7/100\n",
      "50000/50000 [==============================] - 33s 654us/step - loss: 1.5340 - acc: 0.4548 - val_loss: 1.5386 - val_acc: 0.4515\n",
      "Epoch 8/100\n",
      "50000/50000 [==============================] - 33s 668us/step - loss: 1.5052 - acc: 0.4632 - val_loss: 1.5492 - val_acc: 0.4534\n",
      "Epoch 9/100\n",
      "50000/50000 [==============================] - 33s 654us/step - loss: 1.4750 - acc: 0.4754 - val_loss: 1.4901 - val_acc: 0.4660\n",
      "Epoch 10/100\n",
      "50000/50000 [==============================] - 33s 651us/step - loss: 1.4460 - acc: 0.4841 - val_loss: 1.5374 - val_acc: 0.4617\n",
      "Epoch 11/100\n",
      "50000/50000 [==============================] - 33s 658us/step - loss: 1.4144 - acc: 0.4975 - val_loss: 1.4696 - val_acc: 0.4788\n",
      "Epoch 12/100\n",
      "50000/50000 [==============================] - 33s 666us/step - loss: 1.4011 - acc: 0.5015 - val_loss: 1.4777 - val_acc: 0.4716\n",
      "Epoch 13/100\n",
      "50000/50000 [==============================] - 33s 661us/step - loss: 1.3839 - acc: 0.5078 - val_loss: 1.4228 - val_acc: 0.4993\n",
      "Epoch 14/100\n",
      "50000/50000 [==============================] - 31s 614us/step - loss: 1.3510 - acc: 0.5181 - val_loss: 1.4569 - val_acc: 0.4839\n",
      "Epoch 15/100\n",
      "50000/50000 [==============================] - 33s 661us/step - loss: 1.3437 - acc: 0.5210 - val_loss: 1.4771 - val_acc: 0.4748\n",
      "Epoch 16/100\n",
      "50000/50000 [==============================] - 33s 662us/step - loss: 1.3165 - acc: 0.5337 - val_loss: 1.4377 - val_acc: 0.4916\n",
      "Epoch 17/100\n",
      "50000/50000 [==============================] - 33s 656us/step - loss: 1.3038 - acc: 0.5353 - val_loss: 1.4460 - val_acc: 0.4890\n",
      "Epoch 18/100\n",
      "50000/50000 [==============================] - 34s 690us/step - loss: 1.2818 - acc: 0.5457 - val_loss: 1.3882 - val_acc: 0.5123\n",
      "Epoch 19/100\n",
      "50000/50000 [==============================] - 34s 682us/step - loss: 1.2512 - acc: 0.5538 - val_loss: 1.4010 - val_acc: 0.5096\n",
      "Epoch 20/100\n",
      "50000/50000 [==============================] - 34s 670us/step - loss: 1.2358 - acc: 0.5616 - val_loss: 1.4070 - val_acc: 0.5115\n",
      "Epoch 21/100\n",
      "50000/50000 [==============================] - 34s 672us/step - loss: 1.2166 - acc: 0.5665 - val_loss: 1.4097 - val_acc: 0.5056\n",
      "Epoch 22/100\n",
      "50000/50000 [==============================] - 33s 660us/step - loss: 1.2163 - acc: 0.5654 - val_loss: 1.4211 - val_acc: 0.4985\n",
      "Epoch 23/100\n",
      "50000/50000 [==============================] - 34s 674us/step - loss: 1.1889 - acc: 0.5769 - val_loss: 1.4128 - val_acc: 0.5054\n",
      "Epoch 24/100\n",
      "50000/50000 [==============================] - 33s 669us/step - loss: 1.1677 - acc: 0.5847 - val_loss: 1.4451 - val_acc: 0.5025\n",
      "Epoch 25/100\n",
      "50000/50000 [==============================] - 33s 669us/step - loss: 1.1572 - acc: 0.5892 - val_loss: 1.4365 - val_acc: 0.5053\n",
      "Epoch 26/100\n",
      "50000/50000 [==============================] - 34s 670us/step - loss: 1.1488 - acc: 0.5907 - val_loss: 1.4186 - val_acc: 0.5110\n",
      "Epoch 27/100\n",
      "50000/50000 [==============================] - 33s 666us/step - loss: 1.1304 - acc: 0.5962 - val_loss: 1.4196 - val_acc: 0.5039\n",
      "Epoch 28/100\n",
      "50000/50000 [==============================] - 33s 670us/step - loss: 1.1141 - acc: 0.6028 - val_loss: 1.4285 - val_acc: 0.5137\n",
      "Epoch 29/100\n",
      "50000/50000 [==============================] - 34s 678us/step - loss: 1.0878 - acc: 0.6116 - val_loss: 1.4303 - val_acc: 0.5103\n",
      "Epoch 30/100\n",
      "50000/50000 [==============================] - 34s 672us/step - loss: 1.0820 - acc: 0.6124 - val_loss: 1.4109 - val_acc: 0.5194\n",
      "Epoch 31/100\n",
      "50000/50000 [==============================] - 34s 672us/step - loss: 1.0737 - acc: 0.6170 - val_loss: 1.4714 - val_acc: 0.5083\n",
      "Epoch 32/100\n",
      "50000/50000 [==============================] - 34s 679us/step - loss: 1.0547 - acc: 0.6220 - val_loss: 1.4687 - val_acc: 0.5013\n",
      "Epoch 33/100\n",
      "50000/50000 [==============================] - 34s 673us/step - loss: 1.0385 - acc: 0.6290 - val_loss: 1.5273 - val_acc: 0.5027\n",
      "Epoch 34/100\n",
      "50000/50000 [==============================] - 34s 677us/step - loss: 1.0290 - acc: 0.6327 - val_loss: 1.4385 - val_acc: 0.5227\n",
      "Epoch 35/100\n",
      "50000/50000 [==============================] - 33s 665us/step - loss: 1.0059 - acc: 0.6419 - val_loss: 1.5044 - val_acc: 0.5032\n",
      "Epoch 36/100\n",
      "50000/50000 [==============================] - 33s 669us/step - loss: 0.9932 - acc: 0.6460 - val_loss: 1.4865 - val_acc: 0.5094\n",
      "Epoch 37/100\n",
      "50000/50000 [==============================] - 34s 673us/step - loss: 0.9939 - acc: 0.6433 - val_loss: 1.5176 - val_acc: 0.5095\n",
      "Epoch 38/100\n",
      "50000/50000 [==============================] - 33s 666us/step - loss: 0.9605 - acc: 0.6572 - val_loss: 1.5403 - val_acc: 0.5050\n",
      "Epoch 39/100\n",
      "50000/50000 [==============================] - 34s 674us/step - loss: 0.9649 - acc: 0.6554 - val_loss: 1.5279 - val_acc: 0.5089\n",
      "Epoch 40/100\n",
      "50000/50000 [==============================] - 33s 662us/step - loss: 0.9434 - acc: 0.6613 - val_loss: 1.5276 - val_acc: 0.5078\n",
      "Epoch 41/100\n",
      "50000/50000 [==============================] - 34s 688us/step - loss: 0.9187 - acc: 0.6723 - val_loss: 1.5853 - val_acc: 0.5074\n",
      "Epoch 42/100\n",
      "50000/50000 [==============================] - 34s 676us/step - loss: 0.9208 - acc: 0.6723 - val_loss: 1.5680 - val_acc: 0.5048\n",
      "Epoch 43/100\n",
      "50000/50000 [==============================] - 33s 669us/step - loss: 0.9146 - acc: 0.6729 - val_loss: 1.5458 - val_acc: 0.5094\n",
      "Epoch 44/100\n",
      "50000/50000 [==============================] - 34s 676us/step - loss: 0.8921 - acc: 0.6813 - val_loss: 1.5535 - val_acc: 0.5158\n",
      "Epoch 45/100\n",
      "50000/50000 [==============================] - 34s 671us/step - loss: 0.8695 - acc: 0.6919 - val_loss: 1.6594 - val_acc: 0.5064\n",
      "Epoch 46/100\n",
      "50000/50000 [==============================] - 34s 672us/step - loss: 0.8672 - acc: 0.6892 - val_loss: 1.5773 - val_acc: 0.5156\n",
      "Epoch 47/100\n",
      "50000/50000 [==============================] - 33s 669us/step - loss: 0.8573 - acc: 0.6967 - val_loss: 1.6099 - val_acc: 0.5075\n",
      "Epoch 48/100\n",
      "50000/50000 [==============================] - 34s 677us/step - loss: 0.8371 - acc: 0.7006 - val_loss: 1.6559 - val_acc: 0.5121\n",
      "Epoch 49/100\n",
      "50000/50000 [==============================] - 33s 664us/step - loss: 0.8341 - acc: 0.7005 - val_loss: 1.6491 - val_acc: 0.5093\n",
      "Epoch 50/100\n",
      "50000/50000 [==============================] - 33s 670us/step - loss: 0.8256 - acc: 0.7056 - val_loss: 1.6741 - val_acc: 0.5028\n",
      "Epoch 51/100\n",
      "50000/50000 [==============================] - 34s 676us/step - loss: 0.8052 - acc: 0.7143 - val_loss: 1.7261 - val_acc: 0.5026\n",
      "Epoch 52/100\n",
      "50000/50000 [==============================] - 34s 673us/step - loss: 0.8020 - acc: 0.7134 - val_loss: 1.7211 - val_acc: 0.5006\n",
      "Epoch 53/100\n",
      "50000/50000 [==============================] - 34s 690us/step - loss: 0.7959 - acc: 0.7166 - val_loss: 1.6806 - val_acc: 0.5049\n",
      "Epoch 54/100\n",
      "50000/50000 [==============================] - 35s 706us/step - loss: 0.7840 - acc: 0.7195 - val_loss: 1.7396 - val_acc: 0.5039\n",
      "Epoch 55/100\n",
      "50000/50000 [==============================] - 34s 685us/step - loss: 0.7762 - acc: 0.7228 - val_loss: 1.7137 - val_acc: 0.5121\n",
      "Epoch 56/100\n",
      "50000/50000 [==============================] - 34s 676us/step - loss: 0.7644 - acc: 0.7267 - val_loss: 1.7468 - val_acc: 0.5027\n",
      "Epoch 57/100\n",
      "50000/50000 [==============================] - 33s 665us/step - loss: 0.7620 - acc: 0.7280 - val_loss: 1.8265 - val_acc: 0.5031\n",
      "Epoch 58/100\n",
      "50000/50000 [==============================] - 34s 671us/step - loss: 0.7506 - acc: 0.7319 - val_loss: 1.8023 - val_acc: 0.5113\n"
     ]
    },
    {
     "name": "stdout",
     "output_type": "stream",
     "text": [
      "Epoch 59/100\n",
      "50000/50000 [==============================] - 33s 660us/step - loss: 0.7429 - acc: 0.7338 - val_loss: 1.8247 - val_acc: 0.5089\n",
      "Epoch 60/100\n",
      "50000/50000 [==============================] - 30s 595us/step - loss: 0.7223 - acc: 0.7404 - val_loss: 1.8091 - val_acc: 0.5009\n",
      "Epoch 61/100\n",
      "50000/50000 [==============================] - 34s 676us/step - loss: 0.7186 - acc: 0.7434 - val_loss: 1.8647 - val_acc: 0.5017\n",
      "Epoch 62/100\n",
      "50000/50000 [==============================] - 34s 674us/step - loss: 0.7090 - acc: 0.7466 - val_loss: 1.8722 - val_acc: 0.5029\n",
      "Epoch 63/100\n",
      "50000/50000 [==============================] - 34s 672us/step - loss: 0.7093 - acc: 0.7460 - val_loss: 1.8601 - val_acc: 0.5029\n",
      "Epoch 64/100\n",
      "50000/50000 [==============================] - 34s 677us/step - loss: 0.6954 - acc: 0.7499 - val_loss: 1.8456 - val_acc: 0.5031\n",
      "Epoch 65/100\n",
      "50000/50000 [==============================] - 33s 669us/step - loss: 0.6796 - acc: 0.7561 - val_loss: 1.9534 - val_acc: 0.5038\n",
      "Epoch 66/100\n",
      "50000/50000 [==============================] - 34s 674us/step - loss: 0.6720 - acc: 0.7596 - val_loss: 1.9183 - val_acc: 0.5048\n",
      "Epoch 67/100\n",
      "50000/50000 [==============================] - 33s 653us/step - loss: 0.6813 - acc: 0.7556 - val_loss: 2.0092 - val_acc: 0.5039\n",
      "Epoch 68/100\n",
      "50000/50000 [==============================] - 34s 677us/step - loss: 0.6532 - acc: 0.7639 - val_loss: 2.0397 - val_acc: 0.4958\n",
      "Epoch 69/100\n",
      "50000/50000 [==============================] - 34s 677us/step - loss: 0.6484 - acc: 0.7674 - val_loss: 2.0528 - val_acc: 0.4958\n",
      "Epoch 70/100\n",
      "50000/50000 [==============================] - 33s 669us/step - loss: 0.6428 - acc: 0.7709 - val_loss: 2.0428 - val_acc: 0.5015\n",
      "Epoch 71/100\n",
      "50000/50000 [==============================] - 34s 676us/step - loss: 0.6410 - acc: 0.7693 - val_loss: 2.0408 - val_acc: 0.4967\n",
      "Epoch 72/100\n",
      "50000/50000 [==============================] - 33s 663us/step - loss: 0.6335 - acc: 0.7725 - val_loss: 2.0818 - val_acc: 0.5015\n",
      "Epoch 73/100\n",
      "50000/50000 [==============================] - 34s 672us/step - loss: 0.6203 - acc: 0.7792 - val_loss: 2.0441 - val_acc: 0.5012\n",
      "Epoch 74/100\n",
      "50000/50000 [==============================] - 33s 669us/step - loss: 0.6157 - acc: 0.7776 - val_loss: 2.0465 - val_acc: 0.5055\n",
      "Epoch 75/100\n",
      "50000/50000 [==============================] - 33s 668us/step - loss: 0.5975 - acc: 0.7878 - val_loss: 2.0933 - val_acc: 0.5050\n",
      "Epoch 76/100\n",
      "50000/50000 [==============================] - 34s 674us/step - loss: 0.6131 - acc: 0.7794 - val_loss: 2.1409 - val_acc: 0.4981\n",
      "Epoch 77/100\n",
      "50000/50000 [==============================] - 34s 681us/step - loss: 0.5991 - acc: 0.7859 - val_loss: 2.0900 - val_acc: 0.5012\n",
      "Epoch 78/100\n",
      "50000/50000 [==============================] - 33s 668us/step - loss: 0.5919 - acc: 0.7884 - val_loss: 2.0726 - val_acc: 0.5016\n",
      "Epoch 79/100\n",
      "50000/50000 [==============================] - 34s 675us/step - loss: 0.6096 - acc: 0.7819 - val_loss: 2.1310 - val_acc: 0.5067\n",
      "Epoch 80/100\n",
      "50000/50000 [==============================] - 34s 684us/step - loss: 0.5816 - acc: 0.7913 - val_loss: 2.2063 - val_acc: 0.4934\n",
      "Epoch 81/100\n",
      "50000/50000 [==============================] - 34s 675us/step - loss: 0.5757 - acc: 0.7954 - val_loss: 2.2170 - val_acc: 0.5045\n",
      "Epoch 82/100\n",
      "50000/50000 [==============================] - 33s 667us/step - loss: 0.5838 - acc: 0.7914 - val_loss: 2.1270 - val_acc: 0.5051\n",
      "Epoch 83/100\n",
      "50000/50000 [==============================] - 34s 672us/step - loss: 0.5520 - acc: 0.8029 - val_loss: 2.2707 - val_acc: 0.4985\n",
      "Epoch 84/100\n",
      "50000/50000 [==============================] - 34s 681us/step - loss: 0.5525 - acc: 0.8017 - val_loss: 2.2665 - val_acc: 0.4976\n",
      "Epoch 85/100\n",
      "50000/50000 [==============================] - 33s 669us/step - loss: 0.5582 - acc: 0.7992 - val_loss: 2.2656 - val_acc: 0.4986\n",
      "Epoch 86/100\n",
      "50000/50000 [==============================] - 34s 679us/step - loss: 0.5591 - acc: 0.7984 - val_loss: 2.4255 - val_acc: 0.4933\n",
      "Epoch 87/100\n",
      "50000/50000 [==============================] - 34s 685us/step - loss: 0.5459 - acc: 0.8050 - val_loss: 2.3682 - val_acc: 0.5030\n",
      "Epoch 88/100\n",
      "50000/50000 [==============================] - 34s 677us/step - loss: 0.5318 - acc: 0.8095 - val_loss: 2.3549 - val_acc: 0.4973\n",
      "Epoch 89/100\n",
      "50000/50000 [==============================] - 34s 679us/step - loss: 0.5431 - acc: 0.8056 - val_loss: 2.3558 - val_acc: 0.4983\n",
      "Epoch 90/100\n",
      "50000/50000 [==============================] - 33s 669us/step - loss: 0.5278 - acc: 0.8102 - val_loss: 2.3726 - val_acc: 0.5015\n",
      "Epoch 91/100\n",
      "50000/50000 [==============================] - 34s 683us/step - loss: 0.5363 - acc: 0.8068 - val_loss: 2.3899 - val_acc: 0.4965\n",
      "Epoch 92/100\n",
      "50000/50000 [==============================] - 34s 682us/step - loss: 0.5258 - acc: 0.8105 - val_loss: 2.4342 - val_acc: 0.4929\n",
      "Epoch 93/100\n",
      "50000/50000 [==============================] - 34s 682us/step - loss: 0.5010 - acc: 0.8207 - val_loss: 2.4461 - val_acc: 0.4950\n",
      "Epoch 94/100\n",
      "50000/50000 [==============================] - 34s 682us/step - loss: 0.5054 - acc: 0.8181 - val_loss: 2.3862 - val_acc: 0.4975\n",
      "Epoch 95/100\n",
      "50000/50000 [==============================] - 34s 677us/step - loss: 0.5121 - acc: 0.8160 - val_loss: 2.5653 - val_acc: 0.4877\n",
      "Epoch 96/100\n",
      "50000/50000 [==============================] - 34s 685us/step - loss: 0.5130 - acc: 0.8160 - val_loss: 2.3981 - val_acc: 0.4961\n",
      "Epoch 97/100\n",
      "50000/50000 [==============================] - 33s 670us/step - loss: 0.4892 - acc: 0.8241 - val_loss: 2.4336 - val_acc: 0.4923\n",
      "Epoch 98/100\n",
      "50000/50000 [==============================] - 34s 689us/step - loss: 0.4973 - acc: 0.8228 - val_loss: 2.5373 - val_acc: 0.4966\n",
      "Epoch 99/100\n",
      "50000/50000 [==============================] - 34s 679us/step - loss: 0.4986 - acc: 0.8212 - val_loss: 2.4554 - val_acc: 0.4968\n",
      "Epoch 100/100\n",
      "50000/50000 [==============================] - 34s 679us/step - loss: 0.4995 - acc: 0.8207 - val_loss: 2.5097 - val_acc: 0.5002\n"
     ]
    },
    {
     "data": {
      "text/plain": [
       "<keras.callbacks.History at 0x17224620438>"
      ]
     },
     "execution_count": 11,
     "metadata": {},
     "output_type": "execute_result"
    }
   ],
   "source": [
    "model.fit(x_train, y_train, \n",
    "          epochs = EPOCHS, \n",
    "          batch_size=BATCH_SIZE, \n",
    "          validation_data = (x_test, y_test), \n",
    "          shuffle = True)"
   ]
  },
  {
   "cell_type": "code",
   "execution_count": 12,
   "metadata": {},
   "outputs": [
    {
     "data": {
      "image/png": "[encoded data removed]",
      "text/plain": [
       "<matplotlib.figure.Figure at 0x172251fb828>"
      ]
     },
     "metadata": {},
     "output_type": "display_data"
    },
    {
     "data": {
      "image/png": "[encoded data removed]",
      "text/plain": [
       "<matplotlib.figure.Figure at 0x1722802ca20>"
      ]
     },
     "metadata": {},
     "output_type": "display_data"
    }
   ],
   "source": [
    "import matplotlib.pyplot as plt\n",
    "%matplotlib inline\n",
    "\n",
    "train_loss = model.history.history[\"loss\"]\n",
    "valid_loss = model.history.history[\"val_loss\"]\n",
    "\n",
    "train_acc = model.history.history[\"acc\"]\n",
    "valid_acc = model.history.history[\"val_acc\"]\n",
    "\n",
    "plt.plot(range(len(train_loss)), train_loss, label=\"train loss\")\n",
    "plt.plot(range(len(valid_loss)), valid_loss, label=\"valid loss\")\n",
    "plt.legend()\n",
    "plt.title(\"Loss\")\n",
    "plt.show()\n",
    "\n",
    "plt.plot(range(len(train_acc)), train_acc, label=\"train accuracy\")\n",
    "plt.plot(range(len(valid_acc)), valid_acc, label=\"valid accuracy\")\n",
    "plt.legend()\n",
    "plt.title(\"Accuracy\")\n",
    "plt.show()"
   ]
  }
 ],
 "metadata": {
  "kernelspec": {
   "display_name": "Python 3",
   "language": "python",
   "name": "python3"
  },
  "language_info": {
   "codemirror_mode": {
    "name": "ipython",
    "version": 3
   },
   "file_extension": ".py",
   "mimetype": "text/x-python",
   "name": "python",
   "nbconvert_exporter": "python",
   "pygments_lexer": "ipython3",
   "version": "3.6.3"
  }
 },
 "nbformat": 4,
 "nbformat_minor": 2
}
