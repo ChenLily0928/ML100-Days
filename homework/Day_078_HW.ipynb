{
 "cells": [
  {
   "cell_type": "markdown",
   "metadata": {},
   "source": [
    "# Day_078"
   ]
  },
  {
   "cell_type": "markdown",
   "metadata": {},
   "source": [
    "### 練習時間\n",
    "1. 請嘗試將 preproc_x 替換成以每筆資料的 min/max 進行標準化至 -1 ~ 1 間，再進行訓練\n",
    "2. 請嘗試將 mlp 疊更深 (e.g 5~10 層)，進行訓練後觀察 learning curve 的走勢\n",
    "3. (optional) 請改用 GPU 進行訓練 (如果你有 GPU 的話)，比較使用 CPU 與 GPU 的訓練速度"
   ]
  },
  {
   "cell_type": "markdown",
   "metadata": {},
   "source": [
    "確認硬體資源\n",
    "\n",
    "!nvidia-smi"
   ]
  },
  {
   "cell_type": "code",
   "execution_count": 1,
   "metadata": {},
   "outputs": [
    {
     "name": "stderr",
     "output_type": "stream",
     "text": [
      "Using TensorFlow backend.\n"
     ]
    }
   ],
   "source": [
    "import os\n",
    "import keras\n",
    "from keras.layers import Input, Dense, Dropout, Activation, Flatten\n",
    "from keras.models import Model, Sequential"
   ]
  },
  {
   "cell_type": "code",
   "execution_count": 2,
   "metadata": {
    "collapsed": true
   },
   "outputs": [],
   "source": [
    "(x_train, y_train), (x_test, y_test) = keras.datasets.cifar10.load_data()"
   ]
  },
  {
   "cell_type": "code",
   "execution_count": 3,
   "metadata": {},
   "outputs": [
    {
     "data": {
      "text/plain": [
       "(50000, 32, 32, 3)"
      ]
     },
     "execution_count": 3,
     "metadata": {},
     "output_type": "execute_result"
    }
   ],
   "source": [
    "x_train.shape"
   ]
  },
  {
   "cell_type": "code",
   "execution_count": 4,
   "metadata": {
    "collapsed": true
   },
   "outputs": [],
   "source": [
    "# 資料前處理\n",
    "def preproc_x(x, flatten=True):\n",
    "    x = (((x - x.min(axis=0)) / (x.max(axis=0) - x.min(axis=0))) - 1) * 2\n",
    "    #x = ((x - min(x)) / ( max(x) - min(x))) * 2 - 1   \n",
    "    if flatten:\n",
    "        x = x.reshape((len(x), -1))\n",
    "    return x\n",
    "\n",
    "def preproc_y(y, num_classes = 10):\n",
    "    if y.shape[-1] == 1:\n",
    "        y = keras.utils.to_categorical(y, num_classes)\n",
    "    return y    "
   ]
  },
  {
   "cell_type": "code",
   "execution_count": 5,
   "metadata": {},
   "outputs": [],
   "source": [
    "# Preproc the inputs\n",
    "x_train = preproc_x(x_train)\n",
    "x_test = preproc_x(x_test)\n",
    "\n",
    "# Preprc the outputs\n",
    "y_train = preproc_y(y_train)\n",
    "y_test = preproc_y(y_test)"
   ]
  },
  {
   "cell_type": "code",
   "execution_count": 6,
   "metadata": {},
   "outputs": [
    {
     "data": {
      "text/plain": [
       "(50000, 3072)"
      ]
     },
     "execution_count": 6,
     "metadata": {},
     "output_type": "execute_result"
    }
   ],
   "source": [
    "x_train.shape"
   ]
  },
  {
   "cell_type": "code",
   "execution_count": 7,
   "metadata": {
    "collapsed": true
   },
   "outputs": [],
   "source": [
    "def build_mlp(input_shape, output_units = 10, num_neurons=[512, 256, 128, 64, 32]):\n",
    "    input_layer = Input(input_shape)\n",
    "    \n",
    "    for i, n_units in enumerate(num_neurons):\n",
    "        if i == 0:\n",
    "            x = Dense(units = n_units, activation = \"relu\", name = \"hidden_layer\" + str(i+1))(input_layer)\n",
    "        else:\n",
    "            x = Dense(units = n_units, activation = \"relu\", name = \"hidden_layer\" + str(i+1))(x)\n",
    "    \n",
    "    out = Dense(units = output_units, activation = \"softmax\", name = \"output\")(x)\n",
    "    \n",
    "    model = Model(inputs=[input_layer], outputs=[out])\n",
    "    return model"
   ]
  },
  {
   "cell_type": "code",
   "execution_count": 8,
   "metadata": {},
   "outputs": [
    {
     "name": "stdout",
     "output_type": "stream",
     "text": [
      "_________________________________________________________________\n",
      "Layer (type)                 Output Shape              Param #   \n",
      "=================================================================\n",
      "input_1 (InputLayer)         (None, 3072)              0         \n",
      "_________________________________________________________________\n",
      "hidden_layer1 (Dense)        (None, 512)               1573376   \n",
      "_________________________________________________________________\n",
      "hidden_layer2 (Dense)        (None, 256)               131328    \n",
      "_________________________________________________________________\n",
      "hidden_layer3 (Dense)        (None, 128)               32896     \n",
      "_________________________________________________________________\n",
      "hidden_layer4 (Dense)        (None, 64)                8256      \n",
      "_________________________________________________________________\n",
      "hidden_layer5 (Dense)        (None, 32)                2080      \n",
      "_________________________________________________________________\n",
      "output (Dense)               (None, 10)                330       \n",
      "=================================================================\n",
      "Total params: 1,748,266\n",
      "Trainable params: 1,748,266\n",
      "Non-trainable params: 0\n",
      "_________________________________________________________________\n"
     ]
    }
   ],
   "source": [
    "model = build_mlp(input_shape = x_train.shape[1:])\n",
    "model.summary()"
   ]
  },
  {
   "cell_type": "code",
   "execution_count": 9,
   "metadata": {
    "collapsed": true
   },
   "outputs": [],
   "source": [
    "# 超參數設定\n",
    "LEARNING_RATE = 0.001\n",
    "EPOCHS = 100\n",
    "BATCH_SIZE = 256"
   ]
  },
  {
   "cell_type": "code",
   "execution_count": null,
   "metadata": {
    "collapsed": true
   },
   "outputs": [],
   "source": [
    "optimizer = keras.optimizers.Adam(lr=LEARNING_RATE)\n",
    "model.compile(loss=\"categorical_crossentropy\", metrics=[\"accuracy\"], optimizer = optimizer)"
   ]
  },
  {
   "cell_type": "code",
   "execution_count": null,
   "metadata": {},
   "outputs": [
    {
     "name": "stdout",
     "output_type": "stream",
     "text": [
      "Train on 50000 samples, validate on 10000 samples\n",
      "Epoch 1/100\n",
      "50000/50000 [==============================] - 35s 694us/step - loss: 2.0863 - acc: 0.2405 - val_loss: 1.9806 - val_acc: 0.2812\n",
      "Epoch 2/100\n",
      "50000/50000 [==============================] - 33s 662us/step - loss: 1.8386 - acc: 0.3379 - val_loss: 1.7944 - val_acc: 0.3577\n",
      "Epoch 3/100\n",
      "50000/50000 [==============================] - 33s 653us/step - loss: 1.6583 - acc: 0.4019 - val_loss: 1.7354 - val_acc: 0.3739\n",
      "Epoch 5/100\n",
      "50000/50000 [==============================] - 33s 657us/step - loss: 1.6072 - acc: 0.4238 - val_loss: 1.5869 - val_acc: 0.4362\n",
      "Epoch 6/100\n",
      "50000/50000 [==============================] - 33s 653us/step - loss: 1.5668 - acc: 0.4407 - val_loss: 1.5630 - val_acc: 0.4388\n",
      "Epoch 7/100\n",
      "50000/50000 [==============================] - 32s 649us/step - loss: 1.5206 - acc: 0.4535 - val_loss: 1.5168 - val_acc: 0.4568\n",
      "Epoch 8/100\n",
      "50000/50000 [==============================] - 33s 662us/step - loss: 1.4895 - acc: 0.4690 - val_loss: 1.5150 - val_acc: 0.4576\n",
      "Epoch 9/100\n",
      "50000/50000 [==============================] - 33s 652us/step - loss: 1.4559 - acc: 0.4804 - val_loss: 1.5638 - val_acc: 0.4472\n",
      "Epoch 10/100\n",
      "50000/50000 [==============================] - 33s 661us/step - loss: 1.4467 - acc: 0.4848 - val_loss: 1.5195 - val_acc: 0.4635\n",
      "Epoch 11/100\n",
      "50000/50000 [==============================] - 33s 659us/step - loss: 1.4100 - acc: 0.4967 - val_loss: 1.4556 - val_acc: 0.4836\n",
      "Epoch 12/100\n",
      "50000/50000 [==============================] - 33s 657us/step - loss: 1.3789 - acc: 0.5098 - val_loss: 1.4632 - val_acc: 0.4842\n",
      "Epoch 13/100\n",
      "50000/50000 [==============================] - 33s 657us/step - loss: 1.3641 - acc: 0.5135 - val_loss: 1.4160 - val_acc: 0.4988\n",
      "Epoch 14/100\n",
      "50000/50000 [==============================] - 33s 658us/step - loss: 1.3529 - acc: 0.5180 - val_loss: 1.4530 - val_acc: 0.4889\n",
      "Epoch 15/100\n",
      "50000/50000 [==============================] - 34s 678us/step - loss: 1.3224 - acc: 0.5282 - val_loss: 1.4158 - val_acc: 0.5055\n",
      "Epoch 16/100\n",
      "50000/50000 [==============================] - 34s 670us/step - loss: 1.3117 - acc: 0.5309 - val_loss: 1.4395 - val_acc: 0.4971\n",
      "Epoch 17/100\n",
      "50000/50000 [==============================] - 33s 662us/step - loss: 1.2828 - acc: 0.5417 - val_loss: 1.4728 - val_acc: 0.4860\n",
      "Epoch 18/100\n",
      "50000/50000 [==============================] - 33s 661us/step - loss: 1.2600 - acc: 0.5527 - val_loss: 1.4849 - val_acc: 0.4792\n",
      "Epoch 19/100\n",
      "50000/50000 [==============================] - 33s 663us/step - loss: 1.2492 - acc: 0.5543 - val_loss: 1.4061 - val_acc: 0.5038\n",
      "Epoch 20/100\n",
      "50000/50000 [==============================] - 33s 657us/step - loss: 1.2400 - acc: 0.5569 - val_loss: 1.4173 - val_acc: 0.5028\n",
      "Epoch 21/100\n",
      "50000/50000 [==============================] - 33s 659us/step - loss: 1.2238 - acc: 0.5655 - val_loss: 1.4252 - val_acc: 0.5011\n",
      "Epoch 22/100\n",
      "50000/50000 [==============================] - 33s 659us/step - loss: 1.2003 - acc: 0.5716 - val_loss: 1.4319 - val_acc: 0.5000\n",
      "Epoch 23/100\n",
      "50000/50000 [==============================] - 33s 663us/step - loss: 1.1828 - acc: 0.5781 - val_loss: 1.4001 - val_acc: 0.5135\n",
      "Epoch 24/100\n",
      "50000/50000 [==============================] - 33s 653us/step - loss: 1.1625 - acc: 0.5860 - val_loss: 1.4326 - val_acc: 0.5070\n",
      "Epoch 25/100\n",
      "50000/50000 [==============================] - 33s 665us/step - loss: 1.1465 - acc: 0.5901 - val_loss: 1.4022 - val_acc: 0.5202\n",
      "Epoch 26/100\n",
      "50000/50000 [==============================] - 33s 669us/step - loss: 1.1318 - acc: 0.5970 - val_loss: 1.4157 - val_acc: 0.5142\n",
      "Epoch 27/100\n",
      "50000/50000 [==============================] - 33s 670us/step - loss: 1.1175 - acc: 0.6031 - val_loss: 1.3884 - val_acc: 0.5271\n",
      "Epoch 28/100\n",
      "50000/50000 [==============================] - 33s 662us/step - loss: 1.1052 - acc: 0.6074 - val_loss: 1.4236 - val_acc: 0.5155\n",
      "Epoch 29/100\n",
      "50000/50000 [==============================] - 33s 660us/step - loss: 1.0802 - acc: 0.6136 - val_loss: 1.4324 - val_acc: 0.5099\n",
      "Epoch 30/100\n",
      "50000/50000 [==============================] - 33s 657us/step - loss: 1.0619 - acc: 0.6194 - val_loss: 1.4258 - val_acc: 0.5172\n",
      "Epoch 31/100\n",
      "50000/50000 [==============================] - 32s 632us/step - loss: 1.0741 - acc: 0.6164 - val_loss: 1.4298 - val_acc: 0.5114\n",
      "Epoch 32/100\n",
      "50000/50000 [==============================] - 34s 673us/step - loss: 1.0480 - acc: 0.6272 - val_loss: 1.4556 - val_acc: 0.5203\n",
      "Epoch 33/100\n",
      "50000/50000 [==============================] - 33s 662us/step - loss: 1.0256 - acc: 0.6354 - val_loss: 1.5073 - val_acc: 0.5021\n",
      "Epoch 34/100\n",
      "50000/50000 [==============================] - 33s 662us/step - loss: 1.0129 - acc: 0.6394 - val_loss: 1.4967 - val_acc: 0.5017\n",
      "Epoch 35/100\n",
      "50000/50000 [==============================] - 33s 667us/step - loss: 0.9986 - acc: 0.6444 - val_loss: 1.5056 - val_acc: 0.5037\n",
      "Epoch 36/100\n",
      "50000/50000 [==============================] - 33s 666us/step - loss: 0.9878 - acc: 0.6476 - val_loss: 1.5020 - val_acc: 0.5068\n",
      "Epoch 37/100\n",
      "50000/50000 [==============================] - 33s 665us/step - loss: 0.9672 - acc: 0.6554 - val_loss: 1.5241 - val_acc: 0.5176\n",
      "Epoch 38/100\n",
      "50000/50000 [==============================] - 33s 667us/step - loss: 0.9547 - acc: 0.6596 - val_loss: 1.5224 - val_acc: 0.5100\n",
      "Epoch 39/100\n",
      "50000/50000 [==============================] - 33s 668us/step - loss: 0.9561 - acc: 0.6551 - val_loss: 1.5385 - val_acc: 0.5027\n",
      "Epoch 40/100\n",
      "50000/50000 [==============================] - 34s 674us/step - loss: 0.9315 - acc: 0.6664 - val_loss: 1.5609 - val_acc: 0.5141\n",
      "Epoch 41/100\n",
      "50000/50000 [==============================] - 33s 668us/step - loss: 0.9205 - acc: 0.6698 - val_loss: 1.5482 - val_acc: 0.5133\n",
      "Epoch 42/100\n",
      "50000/50000 [==============================] - 33s 662us/step - loss: 0.9102 - acc: 0.6744 - val_loss: 1.5969 - val_acc: 0.5089\n",
      "Epoch 43/100\n",
      "50000/50000 [==============================] - 34s 672us/step - loss: 0.8991 - acc: 0.6785 - val_loss: 1.6561 - val_acc: 0.5019\n",
      "Epoch 44/100\n",
      "50000/50000 [==============================] - 34s 678us/step - loss: 0.8845 - acc: 0.6837 - val_loss: 1.6049 - val_acc: 0.5102\n",
      "Epoch 45/100\n",
      "50000/50000 [==============================] - 33s 664us/step - loss: 0.8670 - acc: 0.6897 - val_loss: 1.6218 - val_acc: 0.5170\n",
      "Epoch 46/100\n",
      "50000/50000 [==============================] - 33s 661us/step - loss: 0.8702 - acc: 0.6871 - val_loss: 1.6596 - val_acc: 0.5080\n",
      "Epoch 47/100\n",
      "50000/50000 [==============================] - 33s 669us/step - loss: 0.8584 - acc: 0.6934 - val_loss: 1.6689 - val_acc: 0.5031\n",
      "Epoch 48/100\n",
      "50000/50000 [==============================] - 35s 696us/step - loss: 0.8475 - acc: 0.6955 - val_loss: 1.6149 - val_acc: 0.5110\n",
      "Epoch 49/100\n",
      "50000/50000 [==============================] - 29s 589us/step - loss: 0.8304 - acc: 0.7041 - val_loss: 1.6472 - val_acc: 0.5043\n",
      "Epoch 50/100\n",
      "50000/50000 [==============================] - 23s 452us/step - loss: 0.8075 - acc: 0.7118 - val_loss: 1.6623 - val_acc: 0.5092\n",
      "Epoch 51/100\n",
      "50000/50000 [==============================] - 26s 516us/step - loss: 0.7988 - acc: 0.7143 - val_loss: 1.7390 - val_acc: 0.5072\n",
      "Epoch 52/100\n",
      "50000/50000 [==============================] - 33s 667us/step - loss: 0.8009 - acc: 0.7121 - val_loss: 1.7537 - val_acc: 0.5073\n",
      "Epoch 53/100\n",
      "50000/50000 [==============================] - 35s 698us/step - loss: 0.7913 - acc: 0.7161 - val_loss: 1.7585 - val_acc: 0.5042\n",
      "Epoch 54/100\n",
      "50000/50000 [==============================] - 34s 685us/step - loss: 0.7685 - acc: 0.7246 - val_loss: 1.8125 - val_acc: 0.5044\n",
      "Epoch 55/100\n",
      "50000/50000 [==============================] - 35s 708us/step - loss: 0.7731 - acc: 0.7228 - val_loss: 1.7577 - val_acc: 0.5091\n",
      "Epoch 56/100\n",
      "50000/50000 [==============================] - 34s 680us/step - loss: 0.7642 - acc: 0.7250 - val_loss: 1.7964 - val_acc: 0.5117\n",
      "Epoch 57/100\n",
      "50000/50000 [==============================] - 34s 685us/step - loss: 0.7468 - acc: 0.7332 - val_loss: 1.8488 - val_acc: 0.5017\n",
      "Epoch 58/100\n",
      "50000/50000 [==============================] - 35s 697us/step - loss: 0.7371 - acc: 0.7345 - val_loss: 1.8898 - val_acc: 0.4962\n",
      "Epoch 59/100\n",
      "50000/50000 [==============================] - 35s 692us/step - loss: 0.7211 - acc: 0.7400 - val_loss: 1.8696 - val_acc: 0.5053\n"
     ]
    },
    {
     "name": "stdout",
     "output_type": "stream",
     "text": [
      "Epoch 60/100\n",
      "50000/50000 [==============================] - 34s 682us/step - loss: 0.7269 - acc: 0.7392 - val_loss: 1.8759 - val_acc: 0.5134\n",
      "Epoch 61/100\n",
      "50000/50000 [==============================] - 34s 681us/step - loss: 0.7197 - acc: 0.7410 - val_loss: 1.8424 - val_acc: 0.5056\n",
      "Epoch 62/100\n",
      "50000/50000 [==============================] - 35s 699us/step - loss: 0.6925 - acc: 0.7518 - val_loss: 1.8966 - val_acc: 0.4940\n",
      "Epoch 63/100\n",
      "50000/50000 [==============================] - 34s 685us/step - loss: 0.6934 - acc: 0.7508 - val_loss: 1.9577 - val_acc: 0.5037\n",
      "Epoch 64/100\n",
      "50000/50000 [==============================] - 34s 683us/step - loss: 0.6892 - acc: 0.7528 - val_loss: 1.9106 - val_acc: 0.5095\n",
      "Epoch 65/100\n",
      "50000/50000 [==============================] - 34s 686us/step - loss: 0.6692 - acc: 0.7599 - val_loss: 1.9878 - val_acc: 0.5012\n",
      "Epoch 66/100\n",
      "50000/50000 [==============================] - 36s 717us/step - loss: 0.6585 - acc: 0.7630 - val_loss: 1.9708 - val_acc: 0.5023\n",
      "Epoch 67/100\n",
      "50000/50000 [==============================] - 33s 668us/step - loss: 0.6523 - acc: 0.7667 - val_loss: 2.0907 - val_acc: 0.4906\n",
      "Epoch 68/100\n",
      "50000/50000 [==============================] - 34s 682us/step - loss: 0.6573 - acc: 0.7631 - val_loss: 2.0089 - val_acc: 0.5057\n",
      "Epoch 69/100\n",
      "50000/50000 [==============================] - 33s 657us/step - loss: 0.6415 - acc: 0.7695 - val_loss: 2.0624 - val_acc: 0.4990\n",
      "Epoch 70/100\n",
      "50000/50000 [==============================] - 34s 677us/step - loss: 0.6309 - acc: 0.7740 - val_loss: 2.0169 - val_acc: 0.5009\n",
      "Epoch 71/100\n",
      "50000/50000 [==============================] - 34s 679us/step - loss: 0.6323 - acc: 0.7722 - val_loss: 2.1311 - val_acc: 0.4950\n",
      "Epoch 72/100\n",
      "50000/50000 [==============================] - 33s 661us/step - loss: 0.6132 - acc: 0.7790 - val_loss: 2.1104 - val_acc: 0.5013\n",
      "Epoch 73/100\n",
      "50000/50000 [==============================] - 35s 700us/step - loss: 0.6278 - acc: 0.7747 - val_loss: 2.1258 - val_acc: 0.4938\n",
      "Epoch 74/100\n",
      "50000/50000 [==============================] - 33s 667us/step - loss: 0.6038 - acc: 0.7843 - val_loss: 2.1111 - val_acc: 0.5033\n",
      "Epoch 75/100\n",
      "50000/50000 [==============================] - 33s 658us/step - loss: 0.5966 - acc: 0.7859 - val_loss: 2.1930 - val_acc: 0.5013\n",
      "Epoch 76/100\n",
      "50000/50000 [==============================] - 33s 664us/step - loss: 0.5993 - acc: 0.7848 - val_loss: 2.1634 - val_acc: 0.4920\n",
      "Epoch 77/100\n",
      "50000/50000 [==============================] - 33s 663us/step - loss: 0.5952 - acc: 0.7867 - val_loss: 2.1618 - val_acc: 0.4950\n",
      "Epoch 78/100\n",
      "50000/50000 [==============================] - 35s 696us/step - loss: 0.5912 - acc: 0.7874 - val_loss: 2.2646 - val_acc: 0.4933\n",
      "Epoch 79/100\n",
      "50000/50000 [==============================] - 35s 690us/step - loss: 0.5858 - acc: 0.7882 - val_loss: 2.2180 - val_acc: 0.4887\n",
      "Epoch 80/100\n",
      "50000/50000 [==============================] - 33s 669us/step - loss: 0.5616 - acc: 0.7981 - val_loss: 2.2813 - val_acc: 0.4886\n",
      "Epoch 81/100\n",
      "50000/50000 [==============================] - 33s 656us/step - loss: 0.5674 - acc: 0.7961 - val_loss: 2.2907 - val_acc: 0.4830\n",
      "Epoch 82/100\n",
      "50000/50000 [==============================] - 33s 662us/step - loss: 0.5534 - acc: 0.8017 - val_loss: 2.2368 - val_acc: 0.4990\n",
      "Epoch 83/100\n",
      "50000/50000 [==============================] - 36s 729us/step - loss: 0.5696 - acc: 0.7962 - val_loss: 2.3334 - val_acc: 0.4889\n",
      "Epoch 84/100\n",
      "50000/50000 [==============================] - 33s 669us/step - loss: 0.5587 - acc: 0.7993 - val_loss: 2.3267 - val_acc: 0.4956\n",
      "Epoch 85/100\n",
      "50000/50000 [==============================] - 33s 668us/step - loss: 0.5397 - acc: 0.8073 - val_loss: 2.3095 - val_acc: 0.4948\n",
      "Epoch 86/100\n",
      "50000/50000 [==============================] - 33s 668us/step - loss: 0.5262 - acc: 0.8096 - val_loss: 2.4450 - val_acc: 0.4944\n",
      "Epoch 87/100\n",
      "50000/50000 [==============================] - 35s 704us/step - loss: 0.5241 - acc: 0.8108 - val_loss: 2.4053 - val_acc: 0.4855\n",
      "Epoch 88/100\n",
      "50000/50000 [==============================] - 33s 663us/step - loss: 0.5411 - acc: 0.8057 - val_loss: 2.3829 - val_acc: 0.4955\n",
      "Epoch 89/100\n",
      "50000/50000 [==============================] - 37s 747us/step - loss: 0.5259 - acc: 0.8096 - val_loss: 2.4735 - val_acc: 0.4910\n",
      "Epoch 90/100\n",
      "50000/50000 [==============================] - 34s 671us/step - loss: 0.5250 - acc: 0.8112 - val_loss: 2.5068 - val_acc: 0.4955\n",
      "Epoch 91/100\n",
      "50000/50000 [==============================] - 34s 686us/step - loss: 0.5218 - acc: 0.8151 - val_loss: 2.4646 - val_acc: 0.4972\n",
      "Epoch 92/100\n",
      "50000/50000 [==============================] - 35s 698us/step - loss: 0.5164 - acc: 0.8160 - val_loss: 2.5183 - val_acc: 0.4933\n",
      "Epoch 93/100\n",
      "50000/50000 [==============================] - 34s 680us/step - loss: 0.5241 - acc: 0.8128 - val_loss: 2.4666 - val_acc: 0.4858\n",
      "Epoch 94/100\n",
      "50000/50000 [==============================] - 34s 671us/step - loss: 0.4915 - acc: 0.8228 - val_loss: 2.5073 - val_acc: 0.4909\n",
      "Epoch 95/100\n",
      "50000/50000 [==============================] - 34s 690us/step - loss: 0.5047 - acc: 0.8183 - val_loss: 2.5116 - val_acc: 0.4872\n",
      "Epoch 96/100\n",
      "50000/50000 [==============================] - 31s 626us/step - loss: 0.4997 - acc: 0.8188 - val_loss: 2.5115 - val_acc: 0.4907\n",
      "Epoch 97/100\n",
      "50000/50000 [==============================] - 33s 669us/step - loss: 0.4908 - acc: 0.8235 - val_loss: 2.5368 - val_acc: 0.4911\n",
      "Epoch 98/100\n",
      "50000/50000 [==============================] - 35s 693us/step - loss: 0.4764 - acc: 0.8290 - val_loss: 2.6791 - val_acc: 0.4897\n",
      "Epoch 99/100\n",
      "50000/50000 [==============================] - 35s 701us/step - loss: 0.4982 - acc: 0.8215 - val_loss: 2.5219 - val_acc: 0.4921\n",
      "Epoch 100/100\n",
      "50000/50000 [==============================] - 36s 729us/step - loss: 0.4646 - acc: 0.8341 - val_loss: 2.6101 - val_acc: 0.4938\n"
     ]
    },
    {
     "data": {
      "text/plain": [
       "<keras.callbacks.History at 0x1d396a907b8>"
      ]
     },
     "execution_count": 11,
     "metadata": {},
     "output_type": "execute_result"
    }
   ],
   "source": [
    "model.fit(x_train, y_train, \n",
    "          epochs = EPOCHS, \n",
    "          batch_size=BATCH_SIZE, \n",
    "          validation_data = (x_test, y_test), \n",
    "          shuffle = True)"
   ]
  },
  {
   "cell_type": "code",
   "execution_count": null,
   "metadata": {},
   "outputs": [
    {
     "data": {
      "image/png": "[encoded data removed]",
      "text/plain": [
       "<matplotlib.figure.Figure at 0x1d397667630>"
      ]
     },
     "metadata": {},
     "output_type": "display_data"
    },
    {
     "data": {
      "image/png": "[encoded data removed]",
      "text/plain": [
       "<matplotlib.figure.Figure at 0x1d39a4d96a0>"
      ]
     },
     "metadata": {},
     "output_type": "display_data"
    }
   ],
   "source": [
    "import matplotlib.pyplot as plt\n",
    "%matplotlib inline\n",
    "\n",
    "train_loss = model.history.history[\"loss\"]\n",
    "valid_loss = model.history.history[\"val_loss\"]\n",
    "\n",
    "train_acc = model.history.history[\"acc\"]\n",
    "valid_acc = model.history.history[\"val_acc\"]\n",
    "\n",
    "plt.plot(range(len(train_loss)), train_loss, label=\"train loss\")\n",
    "plt.plot(range(len(valid_loss)), valid_loss, label=\"valid loss\")\n",
    "plt.legend()\n",
    "plt.title(\"Loss\")\n",
    "plt.show()\n",
    "\n",
    "plt.plot(range(len(train_acc)), train_acc, label=\"train accuracy\")\n",
    "plt.plot(range(len(valid_acc)), valid_acc, label=\"valid accuracy\")\n",
    "plt.legend()\n",
    "plt.title(\"Accuracy\")\n",
    "plt.show()"
   ]
  }
 ],
 "metadata": {
  "kernelspec": {
   "display_name": "Python 3",
   "language": "python",
   "name": "python3"
  },
  "language_info": {
   "codemirror_mode": {
    "name": "ipython",
    "version": 3
   },
   "file_extension": ".py",
   "mimetype": "text/x-python",
   "name": "python",
   "nbconvert_exporter": "python",
   "pygments_lexer": "ipython3",
   "version": "3.6.3"
  }
 },
 "nbformat": 4,
 "nbformat_minor": 2
}
