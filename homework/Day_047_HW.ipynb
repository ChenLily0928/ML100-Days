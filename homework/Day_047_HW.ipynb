{
 "cells": [
  {
   "cell_type": "markdown",
   "metadata": {},
   "source": [
    "# Day_047"
   ]
  },
  {
   "cell_type": "markdown",
   "metadata": {},
   "source": [
    "### 練習時間\n",
    "請使用不同的資料集，並使用 hyper-parameter search 的方式，看能不能找出最佳的超參數組合"
   ]
  },
  {
   "cell_type": "code",
   "execution_count": 1,
   "metadata": {
    "collapsed": true
   },
   "outputs": [],
   "source": [
    "import numpy as np\n",
    "import pandas as pd\n",
    "import matplotlib.pyplot as plt\n",
    "%matplotlib inline\n",
    "\n",
    "from sklearn import datasets\n",
    "from sklearn.ensemble import GradientBoostingClassifier, GradientBoostingRegressor\n",
    "from sklearn.model_selection import train_test_split, KFold, GridSearchCV\n",
    "from sklearn.metrics import mean_squared_error, r2_score, accuracy_score"
   ]
  },
  {
   "cell_type": "code",
   "execution_count": 2,
   "metadata": {},
   "outputs": [
    {
     "name": "stdout",
     "output_type": "stream",
     "text": [
      "(506, 13)\n"
     ]
    },
    {
     "data": {
      "text/html": [
       "<div>\n",
       "<style>\n",
       "    .dataframe thead tr:only-child th {\n",
       "        text-align: right;\n",
       "    }\n",
       "\n",
       "    .dataframe thead th {\n",
       "        text-align: left;\n",
       "    }\n",
       "\n",
       "    .dataframe tbody tr th {\n",
       "        vertical-align: top;\n",
       "    }\n",
       "</style>\n",
       "<table border=\"1\" class=\"dataframe\">\n",
       "  <thead>\n",
       "    <tr style=\"text-align: right;\">\n",
       "      <th></th>\n",
       "      <th>0</th>\n",
       "      <th>1</th>\n",
       "      <th>2</th>\n",
       "      <th>3</th>\n",
       "      <th>4</th>\n",
       "      <th>5</th>\n",
       "      <th>6</th>\n",
       "      <th>7</th>\n",
       "      <th>8</th>\n",
       "      <th>9</th>\n",
       "      <th>10</th>\n",
       "      <th>11</th>\n",
       "      <th>12</th>\n",
       "    </tr>\n",
       "  </thead>\n",
       "  <tbody>\n",
       "    <tr>\n",
       "      <th>0</th>\n",
       "      <td>0.00632</td>\n",
       "      <td>18.0</td>\n",
       "      <td>2.31</td>\n",
       "      <td>0.0</td>\n",
       "      <td>0.538</td>\n",
       "      <td>6.575</td>\n",
       "      <td>65.2</td>\n",
       "      <td>4.0900</td>\n",
       "      <td>1.0</td>\n",
       "      <td>296.0</td>\n",
       "      <td>15.3</td>\n",
       "      <td>396.90</td>\n",
       "      <td>4.98</td>\n",
       "    </tr>\n",
       "    <tr>\n",
       "      <th>1</th>\n",
       "      <td>0.02731</td>\n",
       "      <td>0.0</td>\n",
       "      <td>7.07</td>\n",
       "      <td>0.0</td>\n",
       "      <td>0.469</td>\n",
       "      <td>6.421</td>\n",
       "      <td>78.9</td>\n",
       "      <td>4.9671</td>\n",
       "      <td>2.0</td>\n",
       "      <td>242.0</td>\n",
       "      <td>17.8</td>\n",
       "      <td>396.90</td>\n",
       "      <td>9.14</td>\n",
       "    </tr>\n",
       "    <tr>\n",
       "      <th>2</th>\n",
       "      <td>0.02729</td>\n",
       "      <td>0.0</td>\n",
       "      <td>7.07</td>\n",
       "      <td>0.0</td>\n",
       "      <td>0.469</td>\n",
       "      <td>7.185</td>\n",
       "      <td>61.1</td>\n",
       "      <td>4.9671</td>\n",
       "      <td>2.0</td>\n",
       "      <td>242.0</td>\n",
       "      <td>17.8</td>\n",
       "      <td>392.83</td>\n",
       "      <td>4.03</td>\n",
       "    </tr>\n",
       "    <tr>\n",
       "      <th>3</th>\n",
       "      <td>0.03237</td>\n",
       "      <td>0.0</td>\n",
       "      <td>2.18</td>\n",
       "      <td>0.0</td>\n",
       "      <td>0.458</td>\n",
       "      <td>6.998</td>\n",
       "      <td>45.8</td>\n",
       "      <td>6.0622</td>\n",
       "      <td>3.0</td>\n",
       "      <td>222.0</td>\n",
       "      <td>18.7</td>\n",
       "      <td>394.63</td>\n",
       "      <td>2.94</td>\n",
       "    </tr>\n",
       "    <tr>\n",
       "      <th>4</th>\n",
       "      <td>0.06905</td>\n",
       "      <td>0.0</td>\n",
       "      <td>2.18</td>\n",
       "      <td>0.0</td>\n",
       "      <td>0.458</td>\n",
       "      <td>7.147</td>\n",
       "      <td>54.2</td>\n",
       "      <td>6.0622</td>\n",
       "      <td>3.0</td>\n",
       "      <td>222.0</td>\n",
       "      <td>18.7</td>\n",
       "      <td>396.90</td>\n",
       "      <td>5.33</td>\n",
       "    </tr>\n",
       "  </tbody>\n",
       "</table>\n",
       "</div>"
      ],
      "text/plain": [
       "        0     1     2    3      4      5     6       7    8      9     10  \\\n",
       "0  0.00632  18.0  2.31  0.0  0.538  6.575  65.2  4.0900  1.0  296.0  15.3   \n",
       "1  0.02731   0.0  7.07  0.0  0.469  6.421  78.9  4.9671  2.0  242.0  17.8   \n",
       "2  0.02729   0.0  7.07  0.0  0.469  7.185  61.1  4.9671  2.0  242.0  17.8   \n",
       "3  0.03237   0.0  2.18  0.0  0.458  6.998  45.8  6.0622  3.0  222.0  18.7   \n",
       "4  0.06905   0.0  2.18  0.0  0.458  7.147  54.2  6.0622  3.0  222.0  18.7   \n",
       "\n",
       "       11    12  \n",
       "0  396.90  4.98  \n",
       "1  396.90  9.14  \n",
       "2  392.83  4.03  \n",
       "3  394.63  2.94  \n",
       "4  396.90  5.33  "
      ]
     },
     "execution_count": 2,
     "metadata": {},
     "output_type": "execute_result"
    }
   ],
   "source": [
    "# load digits dataset\n",
    "boston = datasets.load_boston()\n",
    "\n",
    "df_boston = pd.DataFrame(boston.data)\n",
    "print(df_boston.shape)\n",
    "df_boston.head()"
   ]
  },
  {
   "cell_type": "code",
   "execution_count": 3,
   "metadata": {},
   "outputs": [
    {
     "name": "stdout",
     "output_type": "stream",
     "text": [
      "50.0    16\n",
      "25.0     8\n",
      "23.1     7\n",
      "21.7     7\n",
      "22.0     7\n",
      "20.6     6\n",
      "19.4     6\n",
      "20.1     5\n",
      "19.6     5\n",
      "19.3     5\n",
      "15.6     5\n",
      "21.4     5\n",
      "13.8     5\n",
      "21.2     5\n",
      "20.0     5\n",
      "17.8     5\n",
      "23.9     5\n",
      "22.6     5\n",
      "22.2     5\n",
      "24.4     4\n",
      "23.2     4\n",
      "23.8     4\n",
      "19.1     4\n",
      "20.3     4\n",
      "13.4     4\n",
      "19.9     4\n",
      "27.5     4\n",
      "22.8     4\n",
      "22.9     4\n",
      "18.9     4\n",
      "        ..\n",
      "12.3     1\n",
      "37.6     1\n",
      "29.4     1\n",
      "12.6     1\n",
      "22.1     1\n",
      "31.1     1\n",
      "48.3     1\n",
      "26.2     1\n",
      "11.0     1\n",
      "9.5      1\n",
      "12.0     1\n",
      "17.7     1\n",
      "44.8     1\n",
      "35.1     1\n",
      "32.4     1\n",
      "42.3     1\n",
      "28.2     1\n",
      "31.2     1\n",
      "33.3     1\n",
      "37.2     1\n",
      "28.6     1\n",
      "15.1     1\n",
      "17.3     1\n",
      "6.3      1\n",
      "39.8     1\n",
      "12.8     1\n",
      "29.9     1\n",
      "9.6      1\n",
      "36.1     1\n",
      "13.0     1\n",
      "Length: 229, dtype: int64\n",
      "\n",
      "Unique values in boston.target = [  5.    5.6   6.3   7.    7.2   7.4   7.5   8.1   8.3   8.4   8.5   8.7\n",
      "   8.8   9.5   9.6   9.7  10.2  10.4  10.5  10.8  10.9  11.   11.3  11.5\n",
      "  11.7  11.8  11.9  12.   12.1  12.3  12.5  12.6  12.7  12.8  13.   13.1\n",
      "  13.2  13.3  13.4  13.5  13.6  13.8  13.9  14.   14.1  14.2  14.3  14.4\n",
      "  14.5  14.6  14.8  14.9  15.   15.1  15.2  15.3  15.4  15.6  15.7  16.\n",
      "  16.1  16.2  16.3  16.4  16.5  16.6  16.7  16.8  17.   17.1  17.2  17.3\n",
      "  17.4  17.5  17.6  17.7  17.8  17.9  18.   18.1  18.2  18.3  18.4  18.5\n",
      "  18.6  18.7  18.8  18.9  19.   19.1  19.2  19.3  19.4  19.5  19.6  19.7\n",
      "  19.8  19.9  20.   20.1  20.2  20.3  20.4  20.5  20.6  20.7  20.8  20.9\n",
      "  21.   21.1  21.2  21.4  21.5  21.6  21.7  21.8  21.9  22.   22.1  22.2\n",
      "  22.3  22.4  22.5  22.6  22.7  22.8  22.9  23.   23.1  23.2  23.3  23.4\n",
      "  23.5  23.6  23.7  23.8  23.9  24.   24.1  24.2  24.3  24.4  24.5  24.6\n",
      "  24.7  24.8  25.   25.1  25.2  25.3  26.2  26.4  26.5  26.6  26.7  27.\n",
      "  27.1  27.5  27.9  28.   28.1  28.2  28.4  28.5  28.6  28.7  29.   29.1\n",
      "  29.4  29.6  29.8  29.9  30.1  30.3  30.5  30.7  30.8  31.   31.1  31.2\n",
      "  31.5  31.6  31.7  32.   32.2  32.4  32.5  32.7  32.9  33.   33.1  33.2\n",
      "  33.3  33.4  33.8  34.6  34.7  34.9  35.1  35.2  35.4  36.   36.1  36.2\n",
      "  36.4  36.5  37.   37.2  37.3  37.6  37.9  38.7  39.8  41.3  41.7  42.3\n",
      "  42.8  43.1  43.5  43.8  44.   44.8  45.4  46.   46.7  48.3  48.5  48.8\n",
      "  50. ]\n"
     ]
    }
   ],
   "source": [
    "print(pd.Series(boston.target).value_counts())\n",
    "print(\"\")\n",
    "print(f\"Unique values in boston.target = {np.unique(boston.target)}\")"
   ]
  },
  {
   "cell_type": "code",
   "execution_count": 4,
   "metadata": {},
   "outputs": [],
   "source": [
    "# 切分訓練集/測試集\n",
    "x_train, x_test, y_train, y_test = train_test_split(boston.data, boston.target, test_size = 0.25, random_state = 42)\n",
    "\n",
    "# 建立模型\n",
    "GBR = GradientBoostingRegressor(random_state = 0)\n",
    "\n",
    "# 訓練模型\n",
    "GBR.fit(x_train, y_train)\n",
    "\n",
    "# 預測測試集\n",
    "y_pred = GBR.predict(x_test)"
   ]
  },
  {
   "cell_type": "code",
   "execution_count": 5,
   "metadata": {},
   "outputs": [
    {
     "name": "stdout",
     "output_type": "stream",
     "text": [
      "Mean squared error: 8.33\n",
      "Variance score: 0.88\n"
     ]
    }
   ],
   "source": [
    "print(\"Mean squared error: %.2f\" % mean_squared_error(y_test, y_pred)) # 預測值與實際值的差距，使用 MSE\n",
    "\n",
    "# Explained variance score: 1 is perfect prediction\n",
    "print('Variance score: %.2f' % r2_score(y_test, y_pred))"
   ]
  },
  {
   "cell_type": "code",
   "execution_count": 6,
   "metadata": {},
   "outputs": [
    {
     "name": "stdout",
     "output_type": "stream",
     "text": [
      "Fitting 3 folds for each of 54 candidates, totalling 162 fits\n"
     ]
    },
    {
     "name": "stderr",
     "output_type": "stream",
     "text": [
      "[Parallel(n_jobs=-1)]: Done  85 tasks      | elapsed:    3.3s\n",
      "[Parallel(n_jobs=-1)]: Done 162 out of 162 | elapsed:    7.6s finished\n"
     ]
    }
   ],
   "source": [
    "# 設定要訓練的超參數組合\n",
    "n_estimators = [50, 100, 150]\n",
    "max_depth = [1, 3, 5, 10, 15, 20]\n",
    "min_samples_split = [2, 3, 4]\n",
    "param_grid = dict(n_estimators = n_estimators, max_depth = max_depth,min_samples_split = min_samples_split )\n",
    "\n",
    "# 建立搜尋物件，放入模型及參數組合字典 (n_jobs = -1 會使用全部 cpu 平行運算)\n",
    "grid_search = GridSearchCV(GBR, param_grid, scoring = \"neg_mean_squared_error\", n_jobs = -1, verbose = 1)\n",
    "\n",
    "# 開始搜尋最佳參數\n",
    "grid_result = grid_search.fit(x_train, y_train)\n",
    "\n",
    "# 預設會跑 3-fold cross-validadtion，總共 9 種參數組合，總共要 train 27 次模型"
   ]
  },
  {
   "cell_type": "code",
   "execution_count": 7,
   "metadata": {},
   "outputs": [
    {
     "name": "stdout",
     "output_type": "stream",
     "text": [
      "Best Accuracy: -12.733388 using {'max_depth': 3, 'min_samples_split': 3, 'n_estimators': 150}\n"
     ]
    }
   ],
   "source": [
    "# 印出最佳結果與最佳參數\n",
    "print(\"Best Accuracy: %f using %s\" % (grid_result.best_score_, grid_result.best_params_))"
   ]
  },
  {
   "cell_type": "code",
   "execution_count": 8,
   "metadata": {},
   "outputs": [],
   "source": [
    "# 使用最佳參數重新建立模型\n",
    "GBR_bestparam = GradientBoostingRegressor(max_depth = grid_result.best_params_['max_depth'],\n",
    "                                          n_estimators = grid_result.best_params_['n_estimators'],\n",
    "                                          min_samples_split = grid_result.best_params_[\"min_samples_split\"],\n",
    "                                          random_state = 0)\n",
    "\n",
    "# 訓練模型\n",
    "GBR_bestparam.fit(x_train, y_train)\n",
    "\n",
    "# 預測測試集\n",
    "y_pred = GBR_bestparam.predict(x_test)"
   ]
  },
  {
   "cell_type": "code",
   "execution_count": 9,
   "metadata": {},
   "outputs": [
    {
     "name": "stdout",
     "output_type": "stream",
     "text": [
      "After adjusting Parameter Mean squared error: 8.16\n",
      "Variance score: 0.88\n"
     ]
    }
   ],
   "source": [
    "print(f\"After adjusting Parameter Mean squared error: %.2f\" % mean_squared_error(y_test, y_pred)) # 預測值與實際值的差距，使用 MSE\n",
    "\n",
    "# Explained variance score: 1 is perfect prediction\n",
    "print('Variance score: %.2f' % r2_score(y_test, y_pred))"
   ]
  }
 ],
 "metadata": {
  "kernelspec": {
   "display_name": "Python 3",
   "language": "python",
   "name": "python3"
  },
  "language_info": {
   "codemirror_mode": {
    "name": "ipython",
    "version": 3
   },
   "file_extension": ".py",
   "mimetype": "text/x-python",
   "name": "python",
   "nbconvert_exporter": "python",
   "pygments_lexer": "ipython3",
   "version": "3.6.3"
  }
 },
 "nbformat": 4,
 "nbformat_minor": 2
}
