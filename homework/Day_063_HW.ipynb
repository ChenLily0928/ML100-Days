{
 "cells": [
  {
   "cell_type": "markdown",
   "metadata": {},
   "source": [
    "# Day_063"
   ]
  },
  {
   "cell_type": "code",
   "execution_count": 1,
   "metadata": {
    "collapsed": true
   },
   "outputs": [],
   "source": [
    "import matplotlib.pylab as plt \n",
    "import numpy as np \n",
    "\n",
    "# Input array\n",
    "X = np.array([[1, 0, 1, 0], [1 ,0 ,1 ,1 ],[ 0 , 1 , 0 , 1 ]])\n",
    "\n",
    "# Output\n",
    "y = np.array([[1], [1], [0]])"
   ]
  },
  {
   "cell_type": "code",
   "execution_count": 2,
   "metadata": {},
   "outputs": [
    {
     "data": {
      "image/png": "[encoded data removed]",
      "text/plain": [
       "<matplotlib.figure.Figure at 0x174cbb68b70>"
      ]
     },
     "metadata": {},
     "output_type": "display_data"
    }
   ],
   "source": [
    "plt.plot(X, y) \n",
    "plt.xlabel('X') \n",
    "plt.ylabel('y') \n",
    "plt.show()"
   ]
  },
  {
   "cell_type": "markdown",
   "metadata": {},
   "source": [
    "#### sigmoid 函數圖形"
   ]
  },
  {
   "cell_type": "code",
   "execution_count": 3,
   "metadata": {},
   "outputs": [
    {
     "data": {
      "image/png": "[encoded data removed]",
      "text/plain": [
       "<matplotlib.figure.Figure at 0x174ccb4cb38>"
      ]
     },
     "metadata": {},
     "output_type": "display_data"
    }
   ],
   "source": [
    "x = np.arange(-8, 8, 0.1) \n",
    "f = 1 / (1 + np.exp(-x)) \n",
    "plt.plot(x, f) \n",
    "plt.xlabel('x') \n",
    "plt.ylabel('f(x)') \n",
    "plt.show()"
   ]
  },
  {
   "cell_type": "code",
   "execution_count": 4,
   "metadata": {
    "collapsed": true
   },
   "outputs": [],
   "source": [
    "# Sigmoid Function\n",
    "def sigmoid(x): \n",
    "    return  1/(1 + np.exp(-x))\n",
    "\n",
    "# Derivative of Sigmoid Function\n",
    "def derivatives_sigmoid(x): \n",
    "    return x * (1-x)"
   ]
  },
  {
   "cell_type": "code",
   "execution_count": 5,
   "metadata": {
    "collapsed": true
   },
   "outputs": [],
   "source": [
    "# Variable initialization\n",
    "epoch = 5000 # Setting training iterations\n",
    "lr = 0.1 # Setting learning rate\n",
    "inputlayer_neurons = X.shape[1] # number of features in data set \n",
    "hiddenlayer_neurons = 3 # number of hidden layers neurons\n",
    "output_neurons = 1 # number of neurons at output layer"
   ]
  },
  {
   "cell_type": "code",
   "execution_count": 6,
   "metadata": {
    "collapsed": true
   },
   "outputs": [],
   "source": [
    "# weight and bias initialization\n",
    "wh = np.random.uniform( size = ( inputlayer_neurons , hiddenlayer_neurons ) ) \n",
    "bh = np.random.uniform( size = ( 1 , hiddenlayer_neurons ) ) \n",
    "wout = np.random.uniform( size = ( hiddenlayer_neurons , output_neurons ) ) \n",
    "bout = np.random.uniform( size = ( 1 , output_neurons ) )"
   ]
  },
  {
   "cell_type": "code",
   "execution_count": 7,
   "metadata": {},
   "outputs": [
    {
     "name": "stdout",
     "output_type": "stream",
     "text": [
      "X.shape[1]= 4\n",
      "wh = \n",
      " [[ 0.93518804  0.38096601  0.01125879]\n",
      " [ 0.17496891  0.29393507  0.02237446]\n",
      " [ 0.77787948  0.90482918  0.85353148]\n",
      " [ 0.72103533  0.11012305  0.31845262]]\n",
      "\n",
      "bh = \n",
      " [[ 0.83656076  0.40563713  0.24205265]]\n",
      "\n",
      "wout = \n",
      " [[ 0.77612595]\n",
      " [ 0.12060395]\n",
      " [ 0.38579707]]\n",
      "\n",
      "bout = \n",
      " [[ 0.14986714]]\n",
      "\n"
     ]
    }
   ],
   "source": [
    "print(f'X.shape[1]= {X.shape[1]}')\n",
    "print(f'wh = \\n {wh}\\n')\n",
    "print(f'bh = \\n {bh}\\n')\n",
    "print(f'wout = \\n {wout}\\n')\n",
    "print(f'bout = \\n {bout}\\n')"
   ]
  },
  {
   "cell_type": "markdown",
   "metadata": {
    "collapsed": true
   },
   "source": [
    "### 練習時間\n",
    "* 請參閱範例中的 hidden Layer 寫法, 完成 output Layer 的程式"
   ]
  },
  {
   "cell_type": "code",
   "execution_count": 8,
   "metadata": {},
   "outputs": [],
   "source": [
    "for i in  range ( epoch ) :\n",
    "    # Forward Propogation\n",
    "    hidden_layer_input1 = np.dot(X, wh) \n",
    "    hidden_layer_input = hidden_layer_input1 + bh\n",
    "    hiddenlayer_activations =  sigmoid( hidden_layer_input ) \n",
    "    \n",
    "    output_layer_input1 = np.dot(hiddenlayer_activations, wout) \n",
    "    output_layer_input = output_layer_input1 + bout\n",
    "    output =  sigmoid( output_layer_input ) "
   ]
  },
  {
   "cell_type": "code",
   "execution_count": 9,
   "metadata": {},
   "outputs": [
    {
     "name": "stdout",
     "output_type": "stream",
     "text": [
      "hiddenlayer_activations:\n",
      " [[ 0.92754854  0.84441243  0.75154006]\n",
      " [ 0.96340857  0.85833816  0.80616725]\n",
      " [ 0.84974022  0.69204456  0.64172976]]\n",
      "\n",
      "output of Forward Propogation:\n",
      "[[ 0.77929162]\n",
      " [ 0.78786928]\n",
      " [ 0.75775552]]\n",
      "\n",
      "wout,bout of Backpropagation:\n",
      "[[ 0.77612595]\n",
      " [ 0.12060395]\n",
      " [ 0.38579707]],\n",
      "[[ 0.14986714]]\n"
     ]
    }
   ],
   "source": [
    "print(\"hiddenlayer_activations:\\n {}\\n\".format(hiddenlayer_activations))\n",
    "print (\"output of Forward Propogation:\\n{}\\n\" .format(output))\n",
    "print (\"wout,bout of Backpropagation:\\n{},\\n{}\" .format(wout, bout))"
   ]
  },
  {
   "cell_type": "code",
   "execution_count": 10,
   "metadata": {},
   "outputs": [
    {
     "name": "stdout",
     "output_type": "stream",
     "text": [
      "wout,bout of Backpropagation:\n",
      "[[ 0.17375446]\n",
      " [ 0.10605864]\n",
      " [ 0.23695769]],\n",
      "[[ 0.12740698]]\n"
     ]
    }
   ],
   "source": [
    "B_wout = derivatives_sigmoid(wout)\n",
    "B_bout = derivatives_sigmoid(bout)\n",
    "print ( \"wout,bout of Backpropagation:\\n{},\\n{}\" .format(B_wout, B_bout))"
   ]
  }
 ],
 "metadata": {
  "kernelspec": {
   "display_name": "Python 3",
   "language": "python",
   "name": "python3"
  },
  "language_info": {
   "codemirror_mode": {
    "name": "ipython",
    "version": 3
   },
   "file_extension": ".py",
   "mimetype": "text/x-python",
   "name": "python",
   "nbconvert_exporter": "python",
   "pygments_lexer": "ipython3",
   "version": "3.6.3"
  }
 },
 "nbformat": 4,
 "nbformat_minor": 2
}
