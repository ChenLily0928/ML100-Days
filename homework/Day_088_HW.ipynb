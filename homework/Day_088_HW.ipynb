{
 "cells": [
  {
   "cell_type": "markdown",
   "metadata": {},
   "source": [
    "# Day_088"
   ]
  },
  {
   "cell_type": "markdown",
   "metadata": {},
   "source": [
    "### 練習時間\n",
    "1. 請嘗試寫一個 callback 用來記錄各類別在訓練過程中，對驗證集的 True Positive 與 True Negative"
   ]
  },
  {
   "cell_type": "code",
   "execution_count": 1,
   "metadata": {},
   "outputs": [
    {
     "name": "stderr",
     "output_type": "stream",
     "text": [
      "Using TensorFlow backend.\n"
     ]
    }
   ],
   "source": [
    "import os\n",
    "import keras\n",
    "from keras.models import Sequential, Model\n",
    "from keras.layers import Input, Dense\n",
    "from keras import optimizers\n",
    "import matplotlib.pyplot as plt\n",
    "plt.style.use(\"ggplot\")\n",
    "%matplotlib inline\n",
    "\n",
    "# Disable GPU\n",
    "os.environ[\"CUDA_VISIBLE_DEVICES\"] = \"\""
   ]
  },
  {
   "cell_type": "code",
   "execution_count": 2,
   "metadata": {
    "collapsed": true
   },
   "outputs": [],
   "source": [
    "(x_train, y_train), (x_test, y_test) = keras.datasets.cifar10.load_data()"
   ]
  },
  {
   "cell_type": "code",
   "execution_count": 3,
   "metadata": {
    "collapsed": true
   },
   "outputs": [],
   "source": [
    "# 資料前處理\n",
    "def preproc_x(x, flatten=True):\n",
    "    x = x / 255.\n",
    "    if flatten:\n",
    "        x = x.reshape((len(x), -1))\n",
    "    return x\n",
    "\n",
    "def preproc_y(y, num_classes=10):\n",
    "    if y.shape[-1] == 1:\n",
    "        y = keras.utils.to_categorical(y, num_classes)\n",
    "    return y    "
   ]
  },
  {
   "cell_type": "code",
   "execution_count": 4,
   "metadata": {
    "collapsed": true
   },
   "outputs": [],
   "source": [
    "# Preproc the inputs\n",
    "x_train = preproc_x(x_train)\n",
    "x_test = preproc_x(x_test)\n",
    "\n",
    "# Preprc the outputs\n",
    "y_train = preproc_y(y_train)\n",
    "y_test = preproc_y(y_test)"
   ]
  },
  {
   "cell_type": "code",
   "execution_count": 5,
   "metadata": {
    "collapsed": true
   },
   "outputs": [],
   "source": [
    "from keras.layers import BatchNormalization\n",
    "def build_mlp(input_shape, output_units = 10, num_neurons=[256, 256, 256]):\n",
    "    input_layer = Input(input_shape)\n",
    "    \n",
    "    for i, n_units in enumerate(num_neurons):\n",
    "        if i == 0:\n",
    "            x = Dense(units = n_units, \n",
    "                      activation = \"relu\", \n",
    "                      name = \"hidden_layer\" + str(i+1))(input_layer)\n",
    "            x = BatchNormalization()(x)\n",
    "        else:\n",
    "            x = Dense(units = n_units, \n",
    "                      activation = \"relu\", \n",
    "                      name = \"hidden_layer\" + str(i+1))(x)\n",
    "            x = BatchNormalization()(x)\n",
    "    \n",
    "    output = Dense(units = output_units, activation = \"softmax\", name = \"output\")(x)\n",
    "    \n",
    "    model = Model(inputs = [input_layer], outputs = [output])\n",
    "    return model"
   ]
  },
  {
   "cell_type": "code",
   "execution_count": 6,
   "metadata": {
    "collapsed": true
   },
   "outputs": [],
   "source": [
    "# 超參數設定\n",
    "LEARNING_RATE = 1e-3\n",
    "EPOCHS = 25\n",
    "BATCH_SIZE = 1024\n",
    "MOMENTUM = 0.95"
   ]
  },
  {
   "cell_type": "code",
   "execution_count": 7,
   "metadata": {
    "collapsed": true
   },
   "outputs": [],
   "source": [
    "# 載入 Callbacks\n",
    "from keras.callbacks import Callback\n",
    "from sklearn.metrics import confusion_matrix"
   ]
  },
  {
   "cell_type": "code",
   "execution_count": 8,
   "metadata": {
    "collapsed": true
   },
   "outputs": [],
   "source": [
    "# Record_fp_tp\n",
    "class Record_tp_tn(Callback):\n",
    "    def on_train_begin(self, epoch, logs = {}):\n",
    "        logs = logs or {}\n",
    "        record_items = [\"val_auc\", \"val_fp\", \"val_fn\", \"val_tp\", \"val_tn\"]\n",
    "        \n",
    "        for i in record_items:\n",
    "            if i not in self.params['metrics']:\n",
    "                self.params['metrics'].append(i)\n",
    "                \n",
    "    def on_epoch_end(self, epoch, logs = {}, thres = 0.5):\n",
    "        logs = logs or {}\n",
    "        y_true = self.validation_data[1].argmax(axis = 1)\n",
    "        y_pred = self.model.predict(self.validation_data[0])\n",
    "        y_pred = (y_pred[:, 1] >= thres) * 1\n",
    "        \n",
    "        cm = confusion_matrix(y_true, y_pred)\n",
    "        print('True positive = ', cm[0][0])\n",
    "        print('False positive = ', cm[0][1])\n",
    "        print('False negative = ', cm[1][0])\n",
    "        print('True negative = ', cm[1][1])\n",
    "        \n",
    "        logs[\"valid_tn\"] = cm[1][1]\n",
    "        logs[\"valid_tp\"] = cm[0][0]       \n",
    "\n",
    "rec_tptn = Record_tp_tn()"
   ]
  },
  {
   "cell_type": "code",
   "execution_count": 9,
   "metadata": {
    "scrolled": true
   },
   "outputs": [
    {
     "name": "stdout",
     "output_type": "stream",
     "text": [
      "_________________________________________________________________\n",
      "Layer (type)                 Output Shape              Param #   \n",
      "=================================================================\n",
      "input_1 (InputLayer)         (None, 3072)              0         \n",
      "_________________________________________________________________\n",
      "hidden_layer1 (Dense)        (None, 256)               786688    \n",
      "_________________________________________________________________\n",
      "batch_normalization_1 (Batch (None, 256)               1024      \n",
      "_________________________________________________________________\n",
      "hidden_layer2 (Dense)        (None, 256)               65792     \n",
      "_________________________________________________________________\n",
      "batch_normalization_2 (Batch (None, 256)               1024      \n",
      "_________________________________________________________________\n",
      "hidden_layer3 (Dense)        (None, 256)               65792     \n",
      "_________________________________________________________________\n",
      "batch_normalization_3 (Batch (None, 256)               1024      \n",
      "_________________________________________________________________\n",
      "output (Dense)               (None, 10)                2570      \n",
      "=================================================================\n",
      "Total params: 923,914\n",
      "Trainable params: 922,378\n",
      "Non-trainable params: 1,536\n",
      "_________________________________________________________________\n",
      "Train on 50000 samples, validate on 10000 samples\n",
      "Epoch 1/25\n",
      "50000/50000 [==============================] - 11s 221us/step - loss: 2.2109 - acc: 0.2738 - val_loss: 2.1175 - val_acc: 0.3232\n",
      "True positive =  981\n",
      "False positive =  19\n",
      "False negative =  761\n",
      "True negative =  239\n",
      "Epoch 2/25\n",
      "50000/50000 [==============================] - 10s 205us/step - loss: 1.7528 - acc: 0.3917 - val_loss: 1.8416 - val_acc: 0.3801\n",
      "True positive =  988\n",
      "False positive =  12\n",
      "False negative =  795\n",
      "True negative =  205\n",
      "Epoch 3/25\n",
      "50000/50000 [==============================] - 10s 200us/step - loss: 1.6245 - acc: 0.4322 - val_loss: 1.6904 - val_acc: 0.4155\n",
      "True positive =  985\n",
      "False positive =  15\n",
      "False negative =  733\n",
      "True negative =  267\n",
      "Epoch 4/25\n",
      "50000/50000 [==============================] - 10s 200us/step - loss: 1.5501 - acc: 0.4572 - val_loss: 1.6461 - val_acc: 0.4268\n",
      "True positive =  981\n",
      "False positive =  19\n",
      "False negative =  602\n",
      "True negative =  398\n",
      "Epoch 5/25\n",
      "50000/50000 [==============================] - 10s 198us/step - loss: 1.4962 - acc: 0.4750 - val_loss: 1.6088 - val_acc: 0.4362\n",
      "True positive =  982\n",
      "False positive =  18\n",
      "False negative =  573\n",
      "True negative =  427\n",
      "Epoch 6/25\n",
      "50000/50000 [==============================] - 10s 202us/step - loss: 1.4524 - acc: 0.4903 - val_loss: 1.5723 - val_acc: 0.4485\n",
      "True positive =  979\n",
      "False positive =  21\n",
      "False negative =  569\n",
      "True negative =  431\n",
      "Epoch 7/25\n",
      "50000/50000 [==============================] - 12s 240us/step - loss: 1.4166 - acc: 0.5042 - val_loss: 1.5415 - val_acc: 0.4561\n",
      "True positive =  981\n",
      "False positive =  19\n",
      "False negative =  565\n",
      "True negative =  435\n",
      "Epoch 8/25\n",
      "50000/50000 [==============================] - 10s 199us/step - loss: 1.3833 - acc: 0.5166 - val_loss: 1.5353 - val_acc: 0.4589\n",
      "True positive =  982\n",
      "False positive =  18\n",
      "False negative =  546\n",
      "True negative =  454\n",
      "Epoch 9/25\n",
      "50000/50000 [==============================] - 10s 206us/step - loss: 1.3555 - acc: 0.5241 - val_loss: 1.5127 - val_acc: 0.4654\n",
      "True positive =  987\n",
      "False positive =  13\n",
      "False negative =  613\n",
      "True negative =  387\n",
      "Epoch 10/25\n",
      "50000/50000 [==============================] - 10s 206us/step - loss: 1.3284 - acc: 0.5372 - val_loss: 1.4901 - val_acc: 0.4754\n",
      "True positive =  982\n",
      "False positive =  18\n",
      "False negative =  541\n",
      "True negative =  459\n",
      "Epoch 11/25\n",
      "50000/50000 [==============================] - 11s 215us/step - loss: 1.3042 - acc: 0.5457 - val_loss: 1.4988 - val_acc: 0.4734\n",
      "True positive =  989\n",
      "False positive =  11\n",
      "False negative =  580\n",
      "True negative =  420\n",
      "Epoch 12/25\n",
      "50000/50000 [==============================] - 10s 208us/step - loss: 1.2793 - acc: 0.5534 - val_loss: 1.4850 - val_acc: 0.4758\n",
      "True positive =  988\n",
      "False positive =  12\n",
      "False negative =  607\n",
      "True negative =  393\n",
      "Epoch 13/25\n",
      "50000/50000 [==============================] - 10s 207us/step - loss: 1.2583 - acc: 0.5621 - val_loss: 1.4703 - val_acc: 0.4822\n",
      "True positive =  980\n",
      "False positive =  20\n",
      "False negative =  515\n",
      "True negative =  485\n",
      "Epoch 14/25\n",
      "50000/50000 [==============================] - 10s 203us/step - loss: 1.2371 - acc: 0.5710 - val_loss: 1.4625 - val_acc: 0.4821\n",
      "True positive =  986\n",
      "False positive =  14\n",
      "False negative =  544\n",
      "True negative =  456\n",
      "Epoch 15/25\n",
      "50000/50000 [==============================] - 11s 216us/step - loss: 1.2153 - acc: 0.5782 - val_loss: 1.4695 - val_acc: 0.4807\n",
      "True positive =  982\n",
      "False positive =  18\n",
      "False negative =  497\n",
      "True negative =  503\n",
      "Epoch 16/25\n",
      "50000/50000 [==============================] - 11s 213us/step - loss: 1.1972 - acc: 0.5872 - val_loss: 1.4541 - val_acc: 0.4818\n",
      "True positive =  985\n",
      "False positive =  15\n",
      "False negative =  540\n",
      "True negative =  460\n",
      "Epoch 17/25\n",
      "50000/50000 [==============================] - 11s 217us/step - loss: 1.1771 - acc: 0.5929 - val_loss: 1.4679 - val_acc: 0.4835\n",
      "True positive =  985\n",
      "False positive =  15\n",
      "False negative =  545\n",
      "True negative =  455\n",
      "Epoch 18/25\n",
      "50000/50000 [==============================] - 12s 232us/step - loss: 1.1583 - acc: 0.5987 - val_loss: 1.4529 - val_acc: 0.4907\n",
      "True positive =  990\n",
      "False positive =  10\n",
      "False negative =  573\n",
      "True negative =  427\n",
      "Epoch 19/25\n",
      "50000/50000 [==============================] - 11s 210us/step - loss: 1.1413 - acc: 0.6069 - val_loss: 1.4382 - val_acc: 0.4933\n",
      "True positive =  985\n",
      "False positive =  15\n",
      "False negative =  521\n",
      "True negative =  479\n",
      "Epoch 20/25\n",
      "50000/50000 [==============================] - 11s 211us/step - loss: 1.1237 - acc: 0.6133 - val_loss: 1.4412 - val_acc: 0.4931\n",
      "True positive =  986\n",
      "False positive =  14\n",
      "False negative =  510\n",
      "True negative =  490\n",
      "Epoch 21/25\n",
      "50000/50000 [==============================] - 11s 224us/step - loss: 1.1066 - acc: 0.6205 - val_loss: 1.4560 - val_acc: 0.4960\n",
      "True positive =  978\n",
      "False positive =  22\n",
      "False negative =  448\n",
      "True negative =  552\n",
      "Epoch 22/25\n",
      "50000/50000 [==============================] - 11s 224us/step - loss: 1.0895 - acc: 0.6271 - val_loss: 1.4452 - val_acc: 0.4933\n",
      "True positive =  981\n",
      "False positive =  19\n",
      "False negative =  485\n",
      "True negative =  515\n",
      "Epoch 23/25\n",
      "50000/50000 [==============================] - 10s 204us/step - loss: 1.0741 - acc: 0.6338 - val_loss: 1.4374 - val_acc: 0.5020\n",
      "True positive =  978\n",
      "False positive =  22\n",
      "False negative =  445\n",
      "True negative =  555\n",
      "Epoch 24/25\n",
      "50000/50000 [==============================] - 10s 204us/step - loss: 1.0560 - acc: 0.6396 - val_loss: 1.4464 - val_acc: 0.4939\n",
      "True positive =  985\n",
      "False positive =  15\n",
      "False negative =  501\n",
      "True negative =  499\n",
      "Epoch 25/25\n",
      "50000/50000 [==============================] - 10s 207us/step - loss: 1.0429 - acc: 0.6439 - val_loss: 1.4327 - val_acc: 0.5051\n",
      "True positive =  981\n",
      "False positive =  19\n",
      "False negative =  486\n",
      "True negative =  514\n"
     ]
    }
   ],
   "source": [
    "model = build_mlp(input_shape = x_train.shape[1:])\n",
    "model.summary()\n",
    "optimizer = optimizers.SGD(lr = LEARNING_RATE, nesterov = True, momentum=MOMENTUM)\n",
    "model.compile(loss = \"categorical_crossentropy\", metrics=[\"accuracy\"], optimizer = optimizer)\n",
    "\n",
    "model.fit(x_train, y_train, \n",
    "          epochs = EPOCHS, \n",
    "          batch_size = BATCH_SIZE, \n",
    "          validation_data = (x_test, y_test), \n",
    "          shuffle = True,\n",
    "          callbacks = [rec_tptn]\n",
    "         )\n",
    "\n",
    "# Collect results\n",
    "train_loss = model.history.history[\"loss\"]\n",
    "valid_loss = model.history.history[\"val_loss\"]\n",
    "train_acc = model.history.history[\"acc\"]\n",
    "valid_acc = model.history.history[\"val_acc\"]\n",
    "\n",
    "valid_tp = model.history.history[\"valid_tp\"]\n",
    "valid_tn = model.history.history[\"valid_tn\"]"
   ]
  },
  {
   "cell_type": "code",
   "execution_count": 10,
   "metadata": {},
   "outputs": [
    {
     "data": {
      "image/png": "[encoded data removed]",
      "text/plain": [
       "<matplotlib.figure.Figure at 0x298a0b374e0>"
      ]
     },
     "metadata": {},
     "output_type": "display_data"
    },
    {
     "data": {
      "image/png": "[encoded data removed]",
      "text/plain": [
       "<matplotlib.figure.Figure at 0x2989f547908>"
      ]
     },
     "metadata": {},
     "output_type": "display_data"
    },
    {
     "data": {
      "image/png": "[encoded data removed]",
      "text/plain": [
       "<matplotlib.figure.Figure at 0x2989f5e2fd0>"
      ]
     },
     "metadata": {},
     "output_type": "display_data"
    }
   ],
   "source": [
    "plt.plot(range(len(train_loss)), train_loss, label = \"train loss\")\n",
    "plt.plot(range(len(valid_loss)), valid_loss, label = \"valid loss\")\n",
    "plt.legend()\n",
    "plt.title(\"Loss\")\n",
    "plt.show()\n",
    "\n",
    "plt.plot(range(len(train_acc)), train_acc, label = \"train accuracy\")\n",
    "plt.plot(range(len(valid_acc)), valid_acc, label = \"valid accuracy\")\n",
    "plt.legend()\n",
    "plt.title(\"Accuracy\")\n",
    "plt.show()\n",
    "\n",
    "plt.plot(range(len(valid_tp)), valid_tp, label = \"valid tp\", color = \"navy\")\n",
    "plt.plot(range(len(valid_tn)), valid_tn, label = \"valid tn\", color = \"red\")\n",
    "plt.legend()\n",
    "plt.title(\"True positives and True Negatives\")\n",
    "plt.show()"
   ]
  }
 ],
 "metadata": {
  "kernelspec": {
   "display_name": "Python 3",
   "language": "python",
   "name": "python3"
  },
  "language_info": {
   "codemirror_mode": {
    "name": "ipython",
    "version": 3
   },
   "file_extension": ".py",
   "mimetype": "text/x-python",
   "name": "python",
   "nbconvert_exporter": "python",
   "pygments_lexer": "ipython3",
   "version": "3.6.3"
  }
 },
 "nbformat": 4,
 "nbformat_minor": 2
}
