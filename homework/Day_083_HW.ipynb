{
 "cells": [
  {
   "cell_type": "markdown",
   "metadata": {},
   "source": [
    "# Day_083"
   ]
  },
  {
   "cell_type": "markdown",
   "metadata": {},
   "source": [
    "### 練習時間\n",
    "1. 試比較有 BN 在 Batch_size = 2, 16, 32, 128, 256 下的差異\n",
    "2. 請嘗試將 BN 放在 Activation 之前，並比較訓練結果\n",
    "3. 請於 BN 放在 Input Layer 後，並比較結果"
   ]
  },
  {
   "cell_type": "code",
   "execution_count": 1,
   "metadata": {},
   "outputs": [
    {
     "name": "stderr",
     "output_type": "stream",
     "text": [
      "Using TensorFlow backend.\n"
     ]
    }
   ],
   "source": [
    "import os\n",
    "import keras\n",
    "import itertools\n",
    "from keras.models import Sequential, Model\n",
    "from keras.layers import Input, Dense\n",
    "from keras import optimizers\n",
    "import matplotlib.pyplot as plt\n",
    "plt.style.use(\"ggplot\")\n",
    "%matplotlib inline\n",
    "\n",
    "# Disable GPU\n",
    "os.environ[\"CUDA_VISIBLE_DEVICES\"] = \"\""
   ]
  },
  {
   "cell_type": "code",
   "execution_count": 2,
   "metadata": {},
   "outputs": [],
   "source": [
    "(x_train, y_train), (x_test, y_test) = keras.datasets.cifar10.load_data()"
   ]
  },
  {
   "cell_type": "code",
   "execution_count": 3,
   "metadata": {},
   "outputs": [],
   "source": [
    "# 資料前處理\n",
    "def preproc_x(x, flatten=True):\n",
    "    x = x / 255.\n",
    "    if flatten:\n",
    "        x = x.reshape((len(x), -1))\n",
    "    return x\n",
    "\n",
    "def preproc_y(y, num_classes=10):\n",
    "    if y.shape[-1] == 1:\n",
    "        y = keras.utils.to_categorical(y, num_classes)\n",
    "    return y    "
   ]
  },
  {
   "cell_type": "code",
   "execution_count": 4,
   "metadata": {},
   "outputs": [],
   "source": [
    "# Preproc the inputs\n",
    "x_train = preproc_x(x_train)\n",
    "x_test = preproc_x(x_test)\n",
    "\n",
    "# Preprc the outputs\n",
    "y_train = preproc_y(y_train)\n",
    "y_test = preproc_y(y_test)"
   ]
  },
  {
   "cell_type": "markdown",
   "metadata": {},
   "source": [
    "[BatchNormalization 介紹](https://keras.io/layers/normalization/)\n",
    "\n",
    "BatchNormalization(axis=-1, momentum=0.99, epsilon=0.001, center=True, scale=True, beta_initializer='zeros', gamma_initializer='ones', moving_mean_initializer='zeros', moving_variance_initializer='ones', beta_regularizer=None, gamma_regularizer=None, beta_constraint=None, gamma_constraint=None)"
   ]
  },
  {
   "cell_type": "code",
   "execution_count": 5,
   "metadata": {},
   "outputs": [],
   "source": [
    "from keras.layers import BatchNormalization, Activation\n",
    "def build_mlp(input_shape, output_units = 10, num_neurons=[512, 256, 128]):\n",
    "    input_layer = Input(input_shape)\n",
    "    \n",
    "    for i, n_units in enumerate(num_neurons):\n",
    "        if i == 0:\n",
    "            x = Dense(units = n_units, \n",
    "                      activation = \"relu\", \n",
    "                      name = \"hidden_layer\" + str(i+1))(input_layer)\n",
    "            x = BatchNormalization()(x)\n",
    "        else:\n",
    "            x = Dense(units = n_units, \n",
    "                      activation = \"relu\", \n",
    "                      name = \"hidden_layer\" + str(i+1))(x)\n",
    "            x = BatchNormalization()(x)\n",
    "    \n",
    "    output = Dense(units = output_units, activation = \"softmax\", name = \"output\")(x)\n",
    "    \n",
    "    model = Model(inputs = [input_layer], outputs = [output])\n",
    "    return model"
   ]
  },
  {
   "cell_type": "code",
   "execution_count": 6,
   "metadata": {},
   "outputs": [],
   "source": [
    "def plt_model_result(result):\n",
    "    color_bar = [\"r\", \"g\", \"b\", \"y\", \"m\", \"k\"]\n",
    "    \n",
    "    plt.figure(figsize=(12, 10))\n",
    "    for i, cond in enumerate(results.keys()):\n",
    "        plt.plot(range(len(results[cond]['train-loss'])),results[cond]['train-loss'], '-', label=cond, color=color_bar[i])\n",
    "        plt.plot(range(len(results[cond]['valid-loss'])),results[cond]['valid-loss'], '--', label=cond, color=color_bar[i])\n",
    "    plt.title(\"Loss\")\n",
    "    plt.legend()\n",
    "    plt.show()\n",
    "    \n",
    "    plt.figure(figsize=(12, 10))\n",
    "    for i, cond in enumerate(results.keys()):\n",
    "        plt.plot(range(len(results[cond]['train-acc'])),results[cond]['train-acc'], '-', label=cond, color=color_bar[i])\n",
    "        plt.plot(range(len(results[cond]['valid-acc'])),results[cond]['valid-acc'], '--', label=cond, color=color_bar[i])\n",
    "    plt.title(\"Accuracy\")\n",
    "    plt.legend()\n",
    "    plt.show()"
   ]
  },
  {
   "cell_type": "code",
   "execution_count": 7,
   "metadata": {},
   "outputs": [],
   "source": [
    "# 超參數設定\n",
    "LEARNING_RATE = 1e-3\n",
    "EPOCHS = 50\n",
    "BATCH_SIZE = [2, 16, 32, 128, 256, 1024]\n",
    "MOMENTUM = 0.95"
   ]
  },
  {
   "cell_type": "markdown",
   "metadata": {},
   "source": [
    "### 比較有 BN 在 Batch_size = 2, 16, 32, 128, 256 下的差異"
   ]
  },
  {
   "cell_type": "code",
   "execution_count": null,
   "metadata": {
    "scrolled": true
   },
   "outputs": [
    {
     "name": "stdout",
     "output_type": "stream",
     "text": [
      "Experiment with Batch Size = 2\n",
      "WARNING:tensorflow:From C:\\Users\\10708055\\AppData\\Local\\Continuum\\anaconda3\\lib\\site-packages\\tensorflow\\python\\framework\\op_def_library.py:263: colocate_with (from tensorflow.python.framework.ops) is deprecated and will be removed in a future version.\n",
      "Instructions for updating:\n",
      "Colocations handled automatically by placer.\n",
      "_________________________________________________________________\n",
      "Layer (type)                 Output Shape              Param #   \n",
      "=================================================================\n",
      "input_1 (InputLayer)         (None, 3072)              0         \n",
      "_________________________________________________________________\n",
      "hidden_layer1 (Dense)        (None, 512)               1573376   \n",
      "_________________________________________________________________\n",
      "batch_normalization_1 (Batch (None, 512)               2048      \n",
      "_________________________________________________________________\n",
      "hidden_layer2 (Dense)        (None, 256)               131328    \n",
      "_________________________________________________________________\n",
      "batch_normalization_2 (Batch (None, 256)               1024      \n",
      "_________________________________________________________________\n",
      "hidden_layer3 (Dense)        (None, 128)               32896     \n",
      "_________________________________________________________________\n",
      "batch_normalization_3 (Batch (None, 128)               512       \n",
      "_________________________________________________________________\n",
      "output (Dense)               (None, 10)                1290      \n",
      "=================================================================\n",
      "Total params: 1,742,474\n",
      "Trainable params: 1,740,682\n",
      "Non-trainable params: 1,792\n",
      "_________________________________________________________________\n",
      "WARNING:tensorflow:From C:\\Users\\10708055\\AppData\\Local\\Continuum\\anaconda3\\lib\\site-packages\\tensorflow\\python\\ops\\math_ops.py:3066: to_int32 (from tensorflow.python.ops.math_ops) is deprecated and will be removed in a future version.\n",
      "Instructions for updating:\n",
      "Use tf.cast instead.\n",
      "Train on 50000 samples, validate on 10000 samples\n",
      "Epoch 1/50\n",
      "50000/50000 [==============================] - 483s 10ms/step - loss: 2.3001 - acc: 0.1502 - val_loss: 2.1959 - val_acc: 0.1874\n",
      "Epoch 2/50\n",
      "50000/50000 [==============================] - 570s 11ms/step - loss: 2.2344 - acc: 0.1628 - val_loss: 2.1711 - val_acc: 0.2069\n",
      "Epoch 3/50\n",
      "50000/50000 [==============================] - 532s 11ms/step - loss: 2.2287 - acc: 0.1672 - val_loss: 2.1621 - val_acc: 0.2113\n",
      "Epoch 4/50\n",
      "50000/50000 [==============================] - 520s 10ms/step - loss: 2.2230 - acc: 0.1703 - val_loss: 2.2557 - val_acc: 0.1958\n",
      "Epoch 5/50\n",
      "50000/50000 [==============================] - 3638s 73ms/step - loss: 2.2206 - acc: 0.1721 - val_loss: 2.8330 - val_acc: 0.1806\n",
      "Epoch 6/50\n",
      "50000/50000 [==============================] - 576s 12ms/step - loss: 2.2184 - acc: 0.1783 - val_loss: 3.0036 - val_acc: 0.1693\n",
      "Epoch 7/50\n",
      "50000/50000 [==============================] - 371s 7ms/step - loss: 2.2233 - acc: 0.1716 - val_loss: 2.8099 - val_acc: 0.1716\n",
      "Epoch 8/50\n",
      "50000/50000 [==============================] - 388s 8ms/step - loss: 2.2267 - acc: 0.1684 - val_loss: 3.1078 - val_acc: 0.1729\n",
      "Epoch 10/50\n",
      "50000/50000 [==============================] - 409s 8ms/step - loss: 2.2327 - acc: 0.1670 - val_loss: 2.7699 - val_acc: 0.1902\n",
      "Epoch 11/50\n",
      "50000/50000 [==============================] - 400s 8ms/step - loss: 2.2251 - acc: 0.1730 - val_loss: 3.2530 - val_acc: 0.1721\n",
      "Epoch 12/50\n",
      "50000/50000 [==============================] - 393s 8ms/step - loss: 2.2264 - acc: 0.1700 - val_loss: 3.3884 - val_acc: 0.1763\n",
      "Epoch 13/50\n",
      "50000/50000 [==============================] - 387s 8ms/step - loss: 2.2330 - acc: 0.1668 - val_loss: 3.0269 - val_acc: 0.1990\n",
      "Epoch 14/50\n",
      "50000/50000 [==============================] - 452s 9ms/step - loss: 2.2328 - acc: 0.1667 - val_loss: 3.3128 - val_acc: 0.1891\n",
      "Epoch 15/50\n",
      "50000/50000 [==============================] - 590s 12ms/step - loss: 2.2246 - acc: 0.1765 - val_loss: 3.2007 - val_acc: 0.2224s: 2.2245 - acc\n",
      "Epoch 16/50\n",
      "50000/50000 [==============================] - 551s 11ms/step - loss: 2.2319 - acc: 0.1680 - val_loss: 3.0508 - val_acc: 0.1798\n",
      "Epoch 17/50\n",
      "50000/50000 [==============================] - 532s 11ms/step - loss: 2.2354 - acc: 0.1670 - val_loss: 2.5206 - val_acc: 0.1881\n",
      "Epoch 18/50\n",
      "50000/50000 [==============================] - 574s 11ms/step - loss: 2.2263 - acc: 0.1721 - val_loss: 2.6150 - val_acc: 0.2216\n",
      "Epoch 19/50\n",
      "50000/50000 [==============================] - 579s 12ms/step - loss: 2.2273 - acc: 0.1716 - val_loss: 2.8062 - val_acc: 0.2051\n",
      "Epoch 20/50\n",
      "50000/50000 [==============================] - 546s 11ms/step - loss: 2.2265 - acc: 0.1740 - val_loss: 3.0339 - val_acc: 0.2157\n",
      "Epoch 21/50\n",
      "50000/50000 [==============================] - 504s 10ms/step - loss: 2.2219 - acc: 0.1736 - val_loss: 3.0743 - val_acc: 0.1954\n",
      "Epoch 22/50\n",
      "50000/50000 [==============================] - 540s 11ms/step - loss: 2.2184 - acc: 0.1784 - val_loss: 2.6733 - val_acc: 0.2167\n",
      "Epoch 23/50\n",
      "50000/50000 [==============================] - 548s 11ms/step - loss: 2.2203 - acc: 0.1753 - val_loss: 2.4619 - val_acc: 0.2164\n",
      "Epoch 24/50\n",
      "50000/50000 [==============================] - 387s 8ms/step - loss: 2.2296 - acc: 0.1682 - val_loss: 2.7372 - val_acc: 0.2040\n",
      "Epoch 25/50\n",
      "33024/50000 [==================>...........] - ETA: 1:57 - loss: 2.2358 - acc: 0.1690"
     ]
    }
   ],
   "source": [
    "results = {}\n",
    "for batch_size in BATCH_SIZE:\n",
    "    keras.backend.clear_session() # 把舊的 Graph 清掉\n",
    "    print(\"Experiment with Batch Size = %.0f\" % (batch_size))\n",
    "    model = build_mlp(input_shape = x_train.shape[1:])\n",
    "    model.summary()\n",
    "    optimizer = optimizers.SGD(lr = LEARNING_RATE, nesterov = True, momentum = MOMENTUM)\n",
    "    model.compile(loss = \"categorical_crossentropy\", metrics = [\"accuracy\"], optimizer = optimizer)\n",
    "\n",
    "    model.fit(x_train, y_train, \n",
    "              epochs = EPOCHS, \n",
    "              batch_size = batch_size, \n",
    "              validation_data = (x_test, y_test), \n",
    "              shuffle = True)\n",
    "    \n",
    "    # Collect results\n",
    "    train_loss = model.history.history[\"loss\"]\n",
    "    valid_loss = model.history.history[\"val_loss\"]\n",
    "    train_acc = model.history.history[\"acc\"]\n",
    "    valid_acc = model.history.history[\"val_acc\"]\n",
    "    \n",
    "    exp_name_tag = \"exp-batch_size-%s\" % str(regulizer_ratio)\n",
    "    results[exp_name_tag] = {'train-loss': train_loss,\n",
    "                             'valid-loss': valid_loss,\n",
    "                             'train-acc': train_acc,\n",
    "                             'valid-acc': valid_acc}"
   ]
  },
  {
   "cell_type": "code",
   "execution_count": null,
   "metadata": {},
   "outputs": [],
   "source": [
    "plt_model_result(results)"
   ]
  },
  {
   "cell_type": "markdown",
   "metadata": {},
   "source": [
    "### 將 BN 放在 Activation 之前"
   ]
  },
  {
   "cell_type": "code",
   "execution_count": null,
   "metadata": {},
   "outputs": [],
   "source": [
    "def build_mlp_Activation(input_shape, output_units = 10, num_neurons=[512, 256, 128]):\n",
    "    input_layer = Input(input_shape)\n",
    "    \n",
    "    for i, n_units in enumerate(num_neurons):\n",
    "        if i == 0:\n",
    "            x = Dense(units = n_units,                       \n",
    "                      name = \"hidden_layer\" + str(i+1))(input_layer)\n",
    "            x = BatchNormalization()(x)\n",
    "            x = Activation('relu')(x)\n",
    "        else:\n",
    "            x = Dense(units = n_units,                    \n",
    "                      name = \"hidden_layer\" + str(i+1))(x)\n",
    "            x = BatchNormalization()(x)\n",
    "            x = Activation('relu')(x)\n",
    "    \n",
    "    output = Dense(units = output_units, activation = \"softmax\", name = \"output\")(x)\n",
    "    \n",
    "    model = Model(inputs = [input_layer], outputs = [output])\n",
    "    return model"
   ]
  },
  {
   "cell_type": "code",
   "execution_count": null,
   "metadata": {},
   "outputs": [],
   "source": [
    "results = {}\n",
    "for batch_size in BATCH_SIZE:\n",
    "    keras.backend.clear_session() # 把舊的 Graph 清掉\n",
    "    print(\"Experiment with Batch Size = %.0f\" % (batch_size))\n",
    "    model = build_mlp_Activation(input_shape = x_train.shape[1:])\n",
    "    model.summary()\n",
    "    optimizer = optimizers.SGD(lr = LEARNING_RATE, nesterov = True, momentum = MOMENTUM)\n",
    "    model.compile(loss = \"categorical_crossentropy\", metrics = [\"accuracy\"], optimizer = optimizer)\n",
    "\n",
    "    model.fit(x_train, y_train, \n",
    "              epochs = EPOCHS, \n",
    "              batch_size = batch_size, \n",
    "              validation_data = (x_test, y_test), \n",
    "              shuffle = True)\n",
    "    \n",
    "    # Collect results\n",
    "    train_loss = model.history.history[\"loss\"]\n",
    "    valid_loss = model.history.history[\"val_loss\"]\n",
    "    train_acc = model.history.history[\"acc\"]\n",
    "    valid_acc = model.history.history[\"val_acc\"]\n",
    "    \n",
    "    exp_name_tag = \"exp-batch_size-%s\" % str(regulizer_ratio)\n",
    "    results[exp_name_tag] = {'train-loss': train_loss,\n",
    "                             'valid-loss': valid_loss,\n",
    "                             'train-acc': train_acc,\n",
    "                             'valid-acc': valid_acc}"
   ]
  },
  {
   "cell_type": "code",
   "execution_count": null,
   "metadata": {},
   "outputs": [],
   "source": [
    "plt_model_result(results)"
   ]
  },
  {
   "cell_type": "markdown",
   "metadata": {},
   "source": [
    "### 將 BN 放在 Input Layer 後"
   ]
  },
  {
   "cell_type": "code",
   "execution_count": null,
   "metadata": {},
   "outputs": [],
   "source": [
    "def build_mlp_InputLayer(input_shape, output_units = 10, num_neurons=[512, 256, 128]):\n",
    "    input_layer = Input(input_shape)\n",
    "    x = BatchNormalization()(input_layer)\n",
    "    \n",
    "    for i, n_units in enumerate(num_neurons):\n",
    "        if i == 0:\n",
    "            x = Dense(units = n_units, \n",
    "                      activation = \"relu\", \n",
    "                      name = \"hidden_layer\" + str(i+1))(x) \n",
    "        else:\n",
    "            x = Dense(units = n_units,  \n",
    "                      activation = \"relu\", \n",
    "                      name = \"hidden_layer\" + str(i+1))(x)         \n",
    "    \n",
    "    output = Dense(units = output_units, activation = \"softmax\", name = \"output\")(x)\n",
    "    \n",
    "    model = Model(inputs = [input_layer], outputs = [output])\n",
    "    return model"
   ]
  },
  {
   "cell_type": "code",
   "execution_count": null,
   "metadata": {},
   "outputs": [],
   "source": [
    "results = {}\n",
    "for batch_size in BATCH_SIZE:\n",
    "    keras.backend.clear_session() # 把舊的 Graph 清掉\n",
    "    print(\"Experiment with Batch Size = %.0f\" % (batch_size))\n",
    "    model = build_mlp_InputLayer(input_shape = x_train.shape[1:])\n",
    "    model.summary()\n",
    "    optimizer = optimizers.SGD(lr = LEARNING_RATE, nesterov = True, momentum = MOMENTUM)\n",
    "    model.compile(loss = \"categorical_crossentropy\", metrics = [\"accuracy\"], optimizer = optimizer)\n",
    "\n",
    "    model.fit(x_train, y_train, \n",
    "              epochs = EPOCHS, \n",
    "              batch_size = batch_size, \n",
    "              validation_data = (x_test, y_test), \n",
    "              shuffle = True)\n",
    "    \n",
    "    # Collect results\n",
    "    train_loss = model.history.history[\"loss\"]\n",
    "    valid_loss = model.history.history[\"val_loss\"]\n",
    "    train_acc = model.history.history[\"acc\"]\n",
    "    valid_acc = model.history.history[\"val_acc\"]\n",
    "    \n",
    "    exp_name_tag = \"exp-batch_size-%s\" % str(regulizer_ratio)\n",
    "    results[exp_name_tag] = {'train-loss': train_loss,\n",
    "                             'valid-loss': valid_loss,\n",
    "                             'train-acc': train_acc,\n",
    "                             'valid-acc': valid_acc}"
   ]
  },
  {
   "cell_type": "code",
   "execution_count": null,
   "metadata": {},
   "outputs": [],
   "source": [
    "plt_model_result(results)"
   ]
  }
 ],
 "metadata": {
  "kernelspec": {
   "display_name": "Python 3",
   "language": "python",
   "name": "python3"
  },
  "language_info": {
   "codemirror_mode": {
    "name": "ipython",
    "version": 3
   },
   "file_extension": ".py",
   "mimetype": "text/x-python",
   "name": "python",
   "nbconvert_exporter": "python",
   "pygments_lexer": "ipython3",
   "version": "3.6.8"
  }
 },
 "nbformat": 4,
 "nbformat_minor": 2
}
